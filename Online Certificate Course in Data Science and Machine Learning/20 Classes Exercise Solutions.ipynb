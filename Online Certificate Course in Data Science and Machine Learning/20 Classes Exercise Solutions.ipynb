{
 "cells": [
  {
   "cell_type": "raw",
   "metadata": {},
   "source": [
    "Classes Exercise problems\n",
    "\n",
    "1) Write a Python class named Circle constructed by a radius and two methods which will compute the area and the perimeter of a circle. \n",
    "2) Write a Python class which has two methods get_String and print_String. get_String accept a string from the user and print_String print the string in upper case\n",
    "3) Create a class, Triangle. Its __init__() method should take self, angle1, angle2, and angle3 as arguments. Make sure to set these appropriately in the body of the __init__()method. Create a variable named number_of_sides and set it equal to 3. Create a method named check_angles. The sum of a triangle's three angles is, it should return True if the sum of self.angle1, self.angle2, and self.angle3 is equal 180, and False otherwise.\n",
    "4) Define a class called Songs, it will show the lyrics of a song. Its __init__() method should have two arguments:self and lyrics. lyricsis a list. Inside your class create a method called sing_me_a_song that prints each element of lyrics on his own line. Define a variable:\n",
    "happy_bday = Song([\"May god bless you, \",\n",
    "\"Have a sunshine on you,\",\n",
    "\"Happy Birthday to you !\"])\n",
    "Call the sing_me_song method on this variable.\n",
    "\n",
    "Exceptional Handling\n",
    "\n",
    "5) Define the following in try block: get two numbers from user-input, give two except block one for value error and name error, one else block for performing mathematical operations like add,sub,mul, div,modulus and print the results, in finally block, print the user defined input values\n",
    "6) In try block, try to open file, in except block, handle FileNotFoundError, in else block, write happy learning into opened file and in finally block, close the opened file"
   ]
  },
  {
   "cell_type": "raw",
   "metadata": {},
   "source": [
    "1) Write a Python class named Circle constructed by a radius and two methods which will compute the area and the perimeter of a circle. "
   ]
  },
  {
   "cell_type": "code",
   "execution_count": 22,
   "metadata": {},
   "outputs": [
    {
     "name": "stdout",
     "output_type": "stream",
     "text": [
      "given radius is  4\n",
      "The area is  804.247719318987   The perimeter is  25.132741228718345\n"
     ]
    }
   ],
   "source": [
    "import math as m\n",
    "class Circle():\n",
    "    def __init__ (self,r):\n",
    "        self.r=r\n",
    "        print('given radius is ',r)\n",
    "    \n",
    "    def area(self):\n",
    "        return (m.pi*m.pow(self.r,self.r))\n",
    "    \n",
    "    def perimeter(self):\n",
    "        return (2*m.pi*self.r)\n",
    "\n",
    "a=Circle(4)\n",
    "print('The area is ',a.area(),'  The perimeter is ',a.perimeter())\n",
    "\n"
   ]
  },
  {
   "cell_type": "raw",
   "metadata": {},
   "source": [
    "2) Write a Python class which has two methods get_String and print_String. get_String accept a string from the user and print_String print the string in upper case"
   ]
  },
  {
   "cell_type": "code",
   "execution_count": 55,
   "metadata": {},
   "outputs": [
    {
     "name": "stdout",
     "output_type": "stream",
     "text": [
      "Input the string\n",
      "red\n"
     ]
    },
    {
     "data": {
      "text/plain": [
       "'RED'"
      ]
     },
     "execution_count": 55,
     "metadata": {},
     "output_type": "execute_result"
    }
   ],
   "source": [
    "class string_op():\n",
    "    def __init__(self):\n",
    "        self.s=''\n",
    "\n",
    "    def get_String(self):\n",
    "        print('Input the string')\n",
    "        self.s=input()\n",
    "    \n",
    "    def print_String(self):\n",
    "        return self.s.upper()\n",
    "    \n",
    "str1=string_op()\n",
    "str1.get_String()\n",
    "str1.print_String()"
   ]
  },
  {
   "cell_type": "raw",
   "metadata": {},
   "source": [
    "3) Create a class, Triangle. Its __init__() method should take self, angle1, angle2, and angle3 as arguments. Make sure to set these appropriately in the body of the __init__() method. Create a variable named number_of_sides and set it equal to 3. Create a method named check_angles. The sum of a triangle's three angles is, it should return True if the sum of self.angle1, self.angle2, and self.angle3 is equal 180, and False otherwise."
   ]
  },
  {
   "cell_type": "code",
   "execution_count": 91,
   "metadata": {},
   "outputs": [
    {
     "data": {
      "text/plain": [
       "'False'"
      ]
     },
     "execution_count": 91,
     "metadata": {},
     "output_type": "execute_result"
    }
   ],
   "source": [
    "#Implemented using lambda\n",
    "class Triangle():\n",
    "    def  __init__(self, angle1, angle2, angle3):\n",
    "        self.angle1=angle1 \n",
    "        self.angle2=angle2\n",
    "        self.angle3=angle3\n",
    "        self.number_of_sides=3\n",
    "    \n",
    "    def check_angles(self):\n",
    "        return (lambda self:'True' if (self.angle1+self.angle2+self.angle3)==180 else 'False')\n",
    "\n",
    "\n",
    "cal=Triangle(45,45,91)\n",
    "a=cal.check_angles()\n",
    "a(cal)"
   ]
  },
  {
   "cell_type": "code",
   "execution_count": 92,
   "metadata": {},
   "outputs": [
    {
     "name": "stdout",
     "output_type": "stream",
     "text": [
      "False\n"
     ]
    }
   ],
   "source": [
    "class Triangle():\n",
    "    def  __init__(self, angle1, angle2, angle3):\n",
    "        self.angle1=angle1 \n",
    "        self.angle2=angle2\n",
    "        self.angle3=angle3\n",
    "        self.number_of_sides=3\n",
    "    \n",
    "    def check_angles(self):\n",
    "        if (self.angle1+self.angle2+self.angle3)==180:\n",
    "            return True\n",
    "        else:\n",
    "            return False\n",
    "\n",
    "\n",
    "cal=Triangle(45,45,91)\n",
    "print(cal.check_angles())"
   ]
  },
  {
   "cell_type": "raw",
   "metadata": {},
   "source": [
    "4) Define a class called Songs, it will show the lyrics of a song. Its __init__() method should have two arguments:self and lyrics. lyricsis a list. Inside your class create a method called sing_me_a_song that prints each element of lyrics on his own line. Define a variable:\n",
    "happy_bday = Song([\"May god bless you, \",\n",
    "\"Have a sunshine on you,\",\n",
    "\"Happy Birthday to you !\"])\n",
    "Call the sing_me_song method on this variable."
   ]
  },
  {
   "cell_type": "code",
   "execution_count": 96,
   "metadata": {},
   "outputs": [
    {
     "name": "stdout",
     "output_type": "stream",
     "text": [
      "May god bless you, \n",
      "Have a sunshine on you,\n",
      "Happy Birthday to you !\n"
     ]
    }
   ],
   "source": [
    "class Songs():\n",
    "    def __init__(self,lyrics):\n",
    "        self.lyrics=lyrics\n",
    "    def sing_me_a_song(self):\n",
    "        for i in self.lyrics:\n",
    "            print(i)\n",
    "\n",
    "\n",
    "happy_bday = Songs([\"May god bless you, \",\"Have a sunshine on you,\",\"Happy Birthday to you !\"])\n",
    "happy_bday.sing_me_a_song()"
   ]
  },
  {
   "cell_type": "raw",
   "metadata": {},
   "source": [
    "5) Define the following in try block: get two numbers from user-input, give two except block one for value error and name error, one else block for performing mathematical operations like add,sub,mul, div,modulus and print the results, in finally block, print the user defined input values"
   ]
  },
  {
   "cell_type": "code",
   "execution_count": 114,
   "metadata": {},
   "outputs": [
    {
     "name": "stdout",
     "output_type": "stream",
     "text": [
      "5\n",
      "k\n",
      "Please check input\n",
      "a  5 b  k\n"
     ]
    }
   ],
   "source": [
    "def except_ex():\n",
    "    try:\n",
    "        a=input()\n",
    "        b=input()\n",
    "        a=int(a)\n",
    "        b=int(b)\n",
    "    except (ValueError,NameError):\n",
    "        print('Please check input')\n",
    "    else:\n",
    "        add = a+b\n",
    "        sub = a-b\n",
    "        mul = a*b\n",
    "        div = a/b\n",
    "        mod = a%b\n",
    "        print('add ',add, 'mul ', mul, 'sub ', sub,'div ',div,'mod ',mod)\n",
    "    finally:\n",
    "        print('a ',a,'b ',b)\n",
    "        \n",
    "        \n",
    "except_ex()"
   ]
  },
  {
   "cell_type": "raw",
   "metadata": {},
   "source": [
    "6) In try block, try to open file, in except block, handle FileNotFoundError, in else block, write happy learning into opened file and in finally block, close the opened file"
   ]
  },
  {
   "cell_type": "code",
   "execution_count": 121,
   "metadata": {},
   "outputs": [],
   "source": [
    "try:\n",
    "    f=open(\"C:\\\\Users\\\\jagsrik\\\\Downloads\\\\files\\\\renamedwrite.txt\",'r+') \n",
    "except FileNotFoundError:\n",
    "    print('Please enter the valid path')\n",
    "else:\n",
    "    f.write('happy learning'+'\\n')\n",
    "finally:\n",
    "    try:\n",
    "        f.close()\n",
    "    except:\n",
    "        print('File is Not open')"
   ]
  }
 ],
 "metadata": {
  "kernelspec": {
   "display_name": "Python 3",
   "language": "python",
   "name": "python3"
  },
  "language_info": {
   "codemirror_mode": {
    "name": "ipython",
    "version": 3
   },
   "file_extension": ".py",
   "mimetype": "text/x-python",
   "name": "python",
   "nbconvert_exporter": "python",
   "pygments_lexer": "ipython3",
   "version": "3.6.1"
  }
 },
 "nbformat": 4,
 "nbformat_minor": 2
}
