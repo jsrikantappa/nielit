{
 "cells": [
  {
   "cell_type": "code",
   "execution_count": 1,
   "metadata": {},
   "outputs": [
    {
     "name": "stdout",
     "output_type": "stream",
     "text": [
      "78.5\n",
      "31.400000000000002\n"
     ]
    }
   ],
   "source": [
    "class Circle():\n",
    "    def __init__(self, r):\n",
    "        self.radius = r\n",
    "\n",
    "    def area(self):\n",
    "        return self.radius**2*3.14\n",
    "    \n",
    "    def perimeter(self):\n",
    "        return 2*self.radius*3.14\n",
    "\n",
    "NewCircle = Circle(5)\n",
    "print(NewCircle.area())\n",
    "print(NewCircle.perimeter())"
   ]
  },
  {
   "cell_type": "code",
   "execution_count": 2,
   "metadata": {},
   "outputs": [
    {
     "name": "stdout",
     "output_type": "stream",
     "text": [
      "happy\n",
      "HAPPY\n"
     ]
    }
   ],
   "source": [
    "class String():\n",
    "    def __init__(self):\n",
    "        self.x = \"\"\n",
    "    def get_String(self):\n",
    "        self.x = input()\n",
    "    def print_String(self):\n",
    "        print(self.x.upper())\n",
    "x = String()\n",
    "x.get_String()\n",
    "x.print_String()\n"
   ]
  },
  {
   "cell_type": "code",
   "execution_count": 3,
   "metadata": {},
   "outputs": [
    {
     "name": "stdout",
     "output_type": "stream",
     "text": [
      "True\n"
     ]
    }
   ],
   "source": [
    "class Triangle(object):\n",
    "    number_of_sides=3\n",
    "    def __init__(self,angle1,angle2,angle3):\n",
    "        self.angle1=angle1\n",
    "        self.angle2=angle2\n",
    "        self.angle3=angle3\n",
    "    \n",
    "    def check_angles(self):\n",
    "        if self.angle1+self.angle2+self.angle3 ==180:\n",
    "            return True\n",
    "        else:\n",
    "             return False\n",
    "my_triangle=Triangle(90,30,60)\n",
    "print (my_triangle.check_angles())"
   ]
  },
  {
   "cell_type": "code",
   "execution_count": 4,
   "metadata": {},
   "outputs": [
    {
     "name": "stdout",
     "output_type": "stream",
     "text": [
      "May god bless you, \n",
      "Have a sunshine on you,\n",
      "Happy Birthday to you !\n"
     ]
    }
   ],
   "source": [
    "class Song():\n",
    "    def __init__(self, lyrics):\n",
    "        self.lyrics=lyrics\n",
    "    def sing_me_a_song(self):\n",
    "        for line in self.lyrics:\n",
    "            print (line)\n",
    "happy_bday = Song([\"May god bless you, \",\n",
    "                    \"Have a sunshine on you,\",\n",
    "                    \"Happy Birthday to you !\"])\n",
    "happy_bday.sing_me_a_song()"
   ]
  },
  {
   "cell_type": "code",
   "execution_count": 5,
   "metadata": {},
   "outputs": [
    {
     "name": "stdout",
     "output_type": "stream",
     "text": [
      "enter number5\n",
      "enter number2\n",
      "Addition 7\n",
      "Subtraction 3\n",
      "Multiplication 10\n",
      "Division 2.5\n",
      "Modulus 1\n",
      "User defined values for a and b is 5 and 2\n"
     ]
    }
   ],
   "source": [
    "try:\n",
    "    a=int(input(\"enter number\"))\n",
    "    b=int(input(\"enter number\"))\n",
    "except ValueError:\n",
    "    print (\"value error occured\")\n",
    "except NameError:\n",
    "    print (\"name error occured\")\n",
    "else:\n",
    "    print (\"Addition\", a+b)\n",
    "    print (\"Subtraction\", a-b)\n",
    "    print (\"Multiplication\", a*b)\n",
    "    print (\"Division\", a/b)\n",
    "    print (\"Modulus\", a%b)\n",
    "finally:\n",
    "    print (\"User defined values for a and b is\", str(a),\"and\", str(b))\n",
    "          "
   ]
  },
  {
   "cell_type": "code",
   "execution_count": 6,
   "metadata": {},
   "outputs": [],
   "source": [
    "try:\n",
    "    x=open(\"file.txt\",\"r+\")\n",
    "except FileNotFoundError:\n",
    "    print (\"No file exists\")\n",
    "else:\n",
    "    x.write(\"Happy learning\")\n",
    "finally:\n",
    "    x.close()\n",
    "          "
   ]
  },
  {
   "cell_type": "code",
   "execution_count": null,
   "metadata": {},
   "outputs": [],
   "source": []
  }
 ],
 "metadata": {
  "kernelspec": {
   "display_name": "Python 3",
   "language": "python",
   "name": "python3"
  },
  "language_info": {
   "codemirror_mode": {
    "name": "ipython",
    "version": 3
   },
   "file_extension": ".py",
   "mimetype": "text/x-python",
   "name": "python",
   "nbconvert_exporter": "python",
   "pygments_lexer": "ipython3",
   "version": "3.7.6"
  }
 },
 "nbformat": 4,
 "nbformat_minor": 4
}
