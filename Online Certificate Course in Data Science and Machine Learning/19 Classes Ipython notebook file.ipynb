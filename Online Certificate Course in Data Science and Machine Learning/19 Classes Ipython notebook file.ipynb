{
 "cells": [
  {
   "cell_type": "markdown",
   "metadata": {},
   "source": [
    "# Classes"
   ]
  },
  {
   "cell_type": "code",
   "execution_count": 1,
   "metadata": {},
   "outputs": [
    {
     "name": "stdout",
     "output_type": "stream",
     "text": [
      "5\n",
      "20\n"
     ]
    }
   ],
   "source": [
    "#Global and local variable\n",
    "def fun(a):\n",
    "    a=5\n",
    "    print (a) \n",
    "a=20\n",
    "fun(a)\n",
    "print (a)\n",
    "\n"
   ]
  },
  {
   "cell_type": "code",
   "execution_count": 7,
   "metadata": {},
   "outputs": [
    {
     "ename": "NameError",
     "evalue": "name 'b' is not defined",
     "output_type": "error",
     "traceback": [
      "\u001b[1;31m---------------------------------------------------------------------------\u001b[0m",
      "\u001b[1;31mNameError\u001b[0m                                 Traceback (most recent call last)",
      "\u001b[1;32m<ipython-input-7-88f4b1b9a1bb>\u001b[0m in \u001b[0;36m<module>\u001b[1;34m\u001b[0m\n\u001b[0;32m      2\u001b[0m     \u001b[0mb\u001b[0m\u001b[1;33m=\u001b[0m\u001b[1;36m5\u001b[0m\u001b[1;33m\u001b[0m\u001b[1;33m\u001b[0m\u001b[0m\n\u001b[0;32m      3\u001b[0m     \u001b[0mprint\u001b[0m \u001b[1;33m(\u001b[0m\u001b[0mb\u001b[0m\u001b[1;33m)\u001b[0m\u001b[1;33m\u001b[0m\u001b[1;33m\u001b[0m\u001b[0m\n\u001b[1;32m----> 4\u001b[1;33m \u001b[0mfun\u001b[0m\u001b[1;33m(\u001b[0m\u001b[0mb\u001b[0m\u001b[1;33m)\u001b[0m\u001b[1;33m\u001b[0m\u001b[1;33m\u001b[0m\u001b[0m\n\u001b[0m\u001b[0;32m      5\u001b[0m \u001b[0mprint\u001b[0m \u001b[1;33m(\u001b[0m\u001b[0mb\u001b[0m\u001b[1;33m)\u001b[0m\u001b[1;33m\u001b[0m\u001b[1;33m\u001b[0m\u001b[0m\n",
      "\u001b[1;31mNameError\u001b[0m: name 'b' is not defined"
     ]
    }
   ],
   "source": [
    "#Global and local variable\n",
    "def fun(b):\n",
    "    b=5\n",
    "    print (b) \n",
    "fun(b)\n",
    "print (b)"
   ]
  },
  {
   "cell_type": "code",
   "execution_count": 2,
   "metadata": {},
   "outputs": [
    {
     "name": "stdout",
     "output_type": "stream",
     "text": [
      "I am: xyz 2 male 35 50\n",
      "I am: abc 3 male 1 0\n"
     ]
    }
   ],
   "source": [
    "class student():#defining class\n",
    "    def __init__(self,age,name,sex,exam=0,test=1):#defining attributes\n",
    "        self.age=age\n",
    "        self.name=name\n",
    "        self.sex=sex\n",
    "        self.exam=exam\n",
    "        self.test=test\n",
    "    def details(self):# defining methods of a class\n",
    "        print (\"I am:\", self.name, self.age, self.sex,self.test,self.exam)\n",
    "                     \n",
    "student1=student(2, \"xyz\",\"male\",50,35) # student 1 - object of class student\n",
    "st2=student(3,\"abc\",\"male\")\n",
    "student1.details() # accessing functions of a class\n",
    "st2.details()\n",
    "\n",
    "\n",
    "\n",
    "\n",
    "\n",
    "    "
   ]
  },
  {
   "cell_type": "code",
   "execution_count": 3,
   "metadata": {},
   "outputs": [
    {
     "name": "stdout",
     "output_type": "stream",
     "text": [
      "I am: xyz 2 male 35 50\n",
      "I am: abc 3 male 1 0\n"
     ]
    }
   ],
   "source": [
    "class student():#defining class\n",
    "    def __init__(a,age,name,sex,exam=0,test=1):# a as the attribute reference instead of self\n",
    "        a.age=age\n",
    "        a.name=name\n",
    "        a.sex=sex\n",
    "        a.exam=exam\n",
    "        a.test=test\n",
    "    def details(a):# defining methods of a class\n",
    "        print (\"I am:\", a.name, a.age, a.sex,a.test,a.exam)\n",
    "                     \n",
    "student1=student(2, \"xyz\",\"male\",50,35) # student 1 - object of class student\n",
    "st2=student(3,\"abc\",\"male\")\n",
    "student1.details() # accessing functions of a class\n",
    "st2.details()"
   ]
  },
  {
   "cell_type": "code",
   "execution_count": 4,
   "metadata": {},
   "outputs": [
    {
     "name": "stdout",
     "output_type": "stream",
     "text": [
      "I am: xyz 2 male 35 50\n",
      "I am: abc 3 male 1 0\n"
     ]
    }
   ],
   "source": [
    "class student():#defining class\n",
    "    def __init__(self,age,name,sex,exam=0,test=1):#defining attributes\n",
    "        self.age=age\n",
    "        self.name=name\n",
    "        self.sex=sex\n",
    "        self.exam=exam\n",
    "        self.test=test\n",
    "    def details(self):# defining methods of a class\n",
    "        print (\"I am:\", self.name, self.age, self.sex,self.test,self.exam)\n",
    "                     \n",
    "student1=student(2, \"xyz\",\"male\",50,35) # student 1 - object of class student\n",
    "st2=student(3,\"abc\",\"male\")\n",
    "student1.details() # accessing functions of a class\n",
    "st2.details()"
   ]
  },
  {
   "cell_type": "code",
   "execution_count": 5,
   "metadata": {},
   "outputs": [
    {
     "name": "stdout",
     "output_type": "stream",
     "text": [
      "30\n"
     ]
    }
   ],
   "source": [
    "class student(): #pass for creating simple class\n",
    "    pass\n",
    "                   \n",
    "st1=student() #obj 1\n",
    "st2=student() #obj 2\n",
    "st1.firstname=\"Bag\" # attributes 1\n",
    "st1.age=30 # attributes 1\n",
    "st2.firstname=\"ahhkjh\"\n",
    "st2.age=40\n",
    "print (st1.age)"
   ]
  }
 ],
 "metadata": {
  "kernelspec": {
   "display_name": "Python 3",
   "language": "python",
   "name": "python3"
  },
  "language_info": {
   "codemirror_mode": {
    "name": "ipython",
    "version": 3
   },
   "file_extension": ".py",
   "mimetype": "text/x-python",
   "name": "python",
   "nbconvert_exporter": "python",
   "pygments_lexer": "ipython3",
   "version": "3.7.6"
  }
 },
 "nbformat": 4,
 "nbformat_minor": 4
}
