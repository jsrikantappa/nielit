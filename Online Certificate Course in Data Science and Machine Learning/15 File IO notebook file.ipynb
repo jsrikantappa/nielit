{
 "cells": [
  {
   "cell_type": "markdown",
   "metadata": {},
   "source": [
    "# File IO"
   ]
  },
  {
   "cell_type": "code",
   "execution_count": 3,
   "metadata": {},
   "outputs": [
    {
     "name": "stdout",
     "output_type": "stream",
     "text": [
      "enter no11\n",
      "<class 'str'>\n",
      "enter no 26\n",
      "<class 'str'>\n",
      "16\n",
      "<class 'str'>\n"
     ]
    }
   ],
   "source": [
    "a=input(\"enter no1\")\n",
    "print (type(a))\n",
    "b=input(\"enter no 2\")\n",
    "print (type(b))\n",
    "c=a+b\n",
    "print (c)\n",
    "print (type(c))"
   ]
  },
  {
   "cell_type": "code",
   "execution_count": 4,
   "metadata": {},
   "outputs": [
    {
     "name": "stdout",
     "output_type": "stream",
     "text": [
      "enter no1  5\n",
      "<class 'int'>\n",
      "enter no 2   6\n",
      "<class 'int'>\n",
      "11\n",
      "<class 'int'>\n"
     ]
    }
   ],
   "source": [
    "a=int(input(\"enter no1  \"))\n",
    "print (type(a))\n",
    "b=int(input(\"enter no 2   \"))\n",
    "print (type(b))\n",
    "c=a+b\n",
    "print (c)\n",
    "print (type(c))"
   ]
  },
  {
   "cell_type": "code",
   "execution_count": 5,
   "metadata": {},
   "outputs": [],
   "source": [
    "f=open(\"file.txt\", \"w\")"
   ]
  },
  {
   "cell_type": "code",
   "execution_count": 6,
   "metadata": {},
   "outputs": [],
   "source": [
    "f.close()"
   ]
  },
  {
   "cell_type": "code",
   "execution_count": 8,
   "metadata": {},
   "outputs": [
    {
     "data": {
      "text/plain": [
       "2"
      ]
     },
     "execution_count": 8,
     "metadata": {},
     "output_type": "execute_result"
    }
   ],
   "source": [
    "f=open(\"file.txt\", \"w\")\n",
    "f.write(\"hi\")"
   ]
  },
  {
   "cell_type": "code",
   "execution_count": 9,
   "metadata": {},
   "outputs": [],
   "source": [
    "f.close()"
   ]
  },
  {
   "cell_type": "code",
   "execution_count": 10,
   "metadata": {},
   "outputs": [
    {
     "name": "stdout",
     "output_type": "stream",
     "text": [
      "hi\n"
     ]
    }
   ],
   "source": [
    "f=open(\"file.txt\", \"r\")\n",
    "str=f.read();\n",
    "print (str)\n",
    "f.close()"
   ]
  },
  {
   "cell_type": "code",
   "execution_count": 11,
   "metadata": {},
   "outputs": [],
   "source": [
    "with open(\"file.txt\",\"w\") as f:\n",
    "    f.write(\"Hello world\")"
   ]
  },
  {
   "cell_type": "code",
   "execution_count": 13,
   "metadata": {},
   "outputs": [],
   "source": [
    "f=open(\"file.txt\", \"a\")\n",
    "f.write(\"\\n hiii\")\n",
    "f.write(\"abbbkjlksjdj\")\n",
    "f.close()"
   ]
  },
  {
   "cell_type": "code",
   "execution_count": 15,
   "metadata": {},
   "outputs": [],
   "source": [
    "f=open(\"file.txt\", \"wb\")\n",
    "s=(65,66,67,68,75,83)\n",
    "bin = bytearray(s)\n",
    "f.write(bin)\n",
    "f.close()"
   ]
  },
  {
   "cell_type": "code",
   "execution_count": 16,
   "metadata": {},
   "outputs": [],
   "source": [
    "f=open(\"file.txt\",\"ab\")\n",
    "s=(80,81)\n",
    "str=bytearray(s)\n",
    "f.write(str)\n",
    "f.close()"
   ]
  },
  {
   "cell_type": "code",
   "execution_count": 17,
   "metadata": {},
   "outputs": [
    {
     "name": "stdout",
     "output_type": "stream",
     "text": [
      "b'ABCDKSPQ'\n"
     ]
    }
   ],
   "source": [
    "f=open(\"file.txt\",\"rb\")\n",
    "print (f.read())\n",
    "f.close()"
   ]
  },
  {
   "cell_type": "code",
   "execution_count": 22,
   "metadata": {},
   "outputs": [
    {
     "name": "stdout",
     "output_type": "stream",
     "text": [
      "ABCDKSPQAB\n",
      "10\n",
      "EF123456fO\n",
      "22\n"
     ]
    }
   ],
   "source": [
    "f=open(\"file.txt\",\"r+\")\n",
    "str=f.read(10)\n",
    "print (str)\n",
    "pos=f.tell()\n",
    "print (pos)\n",
    "post=f.seek(12,0)\n",
    "str=f.read(10)\n",
    "print (str)\n",
    "pos=f.tell()\n",
    "print (pos)\n",
    "f.close()\n"
   ]
  },
  {
   "cell_type": "code",
   "execution_count": 25,
   "metadata": {},
   "outputs": [],
   "source": [
    "import os\n",
    "os.rename(\"Input.txt\",\"File.txt\")"
   ]
  },
  {
   "cell_type": "code",
   "execution_count": 26,
   "metadata": {},
   "outputs": [],
   "source": [
    "os.remove(\"File.txt\")"
   ]
  },
  {
   "cell_type": "code",
   "execution_count": 32,
   "metadata": {},
   "outputs": [],
   "source": [
    "f=open(r'C:\\Users\\AEL05\\Desktop\\File.doc',\"w\")\n",
    "f.write(\"Happy learning\")\n",
    "f.close()"
   ]
  },
  {
   "cell_type": "code",
   "execution_count": null,
   "metadata": {},
   "outputs": [],
   "source": []
  }
 ],
 "metadata": {
  "kernelspec": {
   "display_name": "Python 3",
   "language": "python",
   "name": "python3"
  },
  "language_info": {
   "codemirror_mode": {
    "name": "ipython",
    "version": 3
   },
   "file_extension": ".py",
   "mimetype": "text/x-python",
   "name": "python",
   "nbconvert_exporter": "python",
   "pygments_lexer": "ipython3",
   "version": "3.7.6"
  }
 },
 "nbformat": 4,
 "nbformat_minor": 4
}
