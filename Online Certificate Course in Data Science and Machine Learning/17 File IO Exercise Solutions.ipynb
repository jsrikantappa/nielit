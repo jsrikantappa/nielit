{
 "cells": [
  {
   "cell_type": "markdown",
   "metadata": {},
   "source": [
    "### File IO Exercise Solutions:"
   ]
  },
  {
   "cell_type": "raw",
   "metadata": {},
   "source": [
    "1. Create a Python program that writes the following three lines to the myfile.txt file: First line second line third line \n",
    "    \n",
    "2. Write a Python program that replaces the second line with the line: \"sorry! The content of this line has been changed! \" \n",
    "   Syntax: fileobject.readlines() is for reading lines of a file fileobject.writelines() is for writing lines to a file \n",
    "    \n",
    "3. Using the os.rename() method, create a python program to rename an existing file on the desktop called myfile.txt to myfile2.txt.\n",
    "\n",
    "4. Write a Python program to read an entire text file."
   ]
  },
  {
   "cell_type": "raw",
   "metadata": {},
   "source": [
    "1. Create a Python program that writes the following three lines to the myfile.txt file: First line second line third line "
   ]
  },
  {
   "cell_type": "code",
   "execution_count": 110,
   "metadata": {
    "collapsed": true
   },
   "outputs": [],
   "source": [
    "a=['First line', 'second line', 'third line' ]\n",
    "with open(\"C:\\\\Users\\\\jagsrik\\\\Downloads\\\\files\\\\write.txt\",\"w\") as f:\n",
    "    for i in a:\n",
    "        i+='\\n'\n",
    "        f.write(i)\n",
    "        \n"
   ]
  },
  {
   "cell_type": "raw",
   "metadata": {},
   "source": [
    "2. Write a Python program that replaces the second line with the line: \"sorry! The content of this line has been changed! \" \n",
    "   Syntax: fileobject.readlines() is for reading lines of a file fileobject.writelines() is for writing lines to a file \n",
    " "
   ]
  },
  {
   "cell_type": "code",
   "execution_count": 111,
   "metadata": {},
   "outputs": [],
   "source": [
    "a=\"sorry! The content of this line has been changed! \"\n",
    "with open(\"C:\\\\Users\\\\jagsrik\\\\Downloads\\\\files\\\\write.txt\",\"r+\") as f:\n",
    "    lines=f.readlines()\n",
    "    lines[1]=a+'\\n'\n",
    "f = open(\"C:\\\\Users\\\\jagsrik\\\\Downloads\\\\files\\\\write.txt\",\"w\")\n",
    "for i in lines:\n",
    "    f.writelines(i)\n",
    "f.close()"
   ]
  },
  {
   "cell_type": "raw",
   "metadata": {
    "collapsed": true
   },
   "source": [
    "3. Using the os.rename() method, create a python program to rename an existing file on the desktop called myfile.txt to myfile2.txt."
   ]
  },
  {
   "cell_type": "code",
   "execution_count": null,
   "metadata": {
    "scrolled": true
   },
   "outputs": [],
   "source": [
    "import os\n",
    "os.rename(\"C:\\\\Users\\\\jagsrik\\\\Downloads\\\\files\\\\write.txt\",\"C:\\\\Users\\\\jagsrik\\\\Downloads\\\\files\\\\renamedwrite.txt\")"
   ]
  },
  {
   "cell_type": "raw",
   "metadata": {},
   "source": [
    "4. Write a Python program to read an entire text file."
   ]
  },
  {
   "cell_type": "code",
   "execution_count": 120,
   "metadata": {},
   "outputs": [
    {
     "name": "stdout",
     "output_type": "stream",
     "text": [
      "First line\n",
      "sorry! The content of this line has been changed! \n",
      "third line\n",
      "\n"
     ]
    }
   ],
   "source": [
    "f=open('C:\\\\Users\\\\jagsrik\\\\Downloads\\\\files\\\\renamedwrite.txt','r')\n",
    "print(f.read())"
   ]
  }
 ],
 "metadata": {
  "kernelspec": {
   "display_name": "Python 3",
   "language": "python",
   "name": "python3"
  },
  "language_info": {
   "codemirror_mode": {
    "name": "ipython",
    "version": 3
   },
   "file_extension": ".py",
   "mimetype": "text/x-python",
   "name": "python",
   "nbconvert_exporter": "python",
   "pygments_lexer": "ipython3",
   "version": "3.6.1"
  }
 },
 "nbformat": 4,
 "nbformat_minor": 2
}
