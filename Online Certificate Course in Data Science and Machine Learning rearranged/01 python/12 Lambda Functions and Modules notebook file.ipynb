{
 "cells": [
  {
   "cell_type": "code",
   "execution_count": 1,
   "metadata": {},
   "outputs": [
    {
     "name": "stdout",
     "output_type": "stream",
     "text": [
      "16\n"
     ]
    }
   ],
   "source": [
    "x=lambda a,b,c,d:a+b+c+d\n",
    "print (x(2,3,5,6))"
   ]
  },
  {
   "cell_type": "markdown",
   "metadata": {},
   "source": [
    "## fact of 5=1*2*3*4*5\n"
   ]
  },
  {
   "cell_type": "code",
   "execution_count": 2,
   "metadata": {},
   "outputs": [
    {
     "name": "stdout",
     "output_type": "stream",
     "text": [
      "the factorial of 5 is: 15\n"
     ]
    }
   ],
   "source": [
    "def fact(n):\n",
    "    if n==1:\n",
    "        return 1\n",
    "    else:\n",
    "        return (n+fact(n-1))\n",
    " #fact(4) =20\n",
    "#fact(3)=60\n",
    "#fact(2)=120\n",
    "print(\"the factorial of 5 is:\", fact(5))"
   ]
  },
  {
   "cell_type": "code",
   "execution_count": 3,
   "metadata": {},
   "outputs": [
    {
     "name": "stdout",
     "output_type": "stream",
     "text": [
      "\n",
      "Please wait a moment while I gather a list of all available modules...\n",
      "\n"
     ]
    },
    {
     "name": "stderr",
     "output_type": "stream",
     "text": [
      "C:\\ProgramData\\Anaconda3\\lib\\site-packages\\IPython\\kernel\\__init__.py:12: ShimWarning: The `IPython.kernel` package has been deprecated since IPython 4.0.You should import from ipykernel or jupyter_client instead.\n",
      "  warn(\"The `IPython.kernel` package has been deprecated since IPython 4.0.\"\n",
      "C:\\ProgramData\\Anaconda3\\lib\\site-packages\\nltk\\twitter\\__init__.py:21: UserWarning: The twython library has not been installed. Some functionality from the twitter package will not be available.\n",
      "  warnings.warn(\n",
      "C:\\ProgramData\\Anaconda3\\lib\\site-packages\\setuptools\\distutils_patch.py:25: UserWarning: Distutils was imported before Setuptools. This usage is discouraged and may exhibit undesirable behaviors or errors. Please use Setuptools' objects directly or at least import Setuptools first.\n",
      "  warnings.warn(\n",
      "C:\\ProgramData\\Anaconda3\\lib\\site-packages\\skimage\\viewer\\utils\\__init__.py:1: UserWarning: Recommended matplotlib backend is `Agg` for full skimage.viewer functionality.\n",
      "  from .core import *\n",
      "C:\\ProgramData\\Anaconda3\\lib\\site-packages\\qtawesome\\iconic_font.py:312: UserWarning: You need to have a running QApplication to use QtAwesome!\n",
      "  warnings.warn(\"You need to have a running \"\n",
      "C:\\ProgramData\\Anaconda3\\lib\\pkgutil.py:107: VisibleDeprecationWarning: zmq.eventloop.minitornado is deprecated in pyzmq 14.0 and will be removed.\n",
      "    Install tornado itself to use zmq with the tornado IOLoop.\n",
      "    \n",
      "  yield from walk_packages(path, info.name+'.', onerror)\n"
     ]
    },
    {
     "name": "stdout",
     "output_type": "stream",
     "text": [
      "Cython              brain_scipy_signal  markupsafe          snowballstemmer\n",
      "IPython             brain_six           marshal             socket\n",
      "OpenSSL             brain_ssl           math                socketserver\n",
      "PIL                 brain_subprocess    matplotlib          socks\n",
      "PyQt5               brain_threading     mccabe              sockshandler\n",
      "__future__          brain_typing        menuinst            sortedcollections\n",
      "_abc                brain_uuid          mimetypes           sortedcontainers\n",
      "_ast                branca              mistune             soupsieve\n",
      "_asyncio            brotli              mkl                 sphinx\n",
      "_bisect             bs4                 mkl_fft             sphinxcontrib\n",
      "_blake2             builtins            mkl_random          spyder\n",
      "_bootlocale         bz2                 mmap                spyder_kernels\n",
      "_bz2                cProfile            mmapfile            sqlalchemy\n",
      "_cffi_backend       calendar            mmsystem            sqlite3\n",
      "_codecs             certifi             mock                sre_compile\n",
      "_codecs_cn          cffi                mod                 sre_constants\n",
      "_codecs_hk          cgi                 modulefinder        sre_parse\n",
      "_codecs_iso2022     cgitb               more_itertools      ssl\n",
      "_codecs_jp          chardet             mpmath              sspi\n",
      "_codecs_kr          chunk               msgpack             sspicon\n",
      "_codecs_tw          click               msilib              stat\n",
      "_collections        cloudpickle         msvcrt              statistics\n",
      "_collections_abc    clyent              multipledispatch    statsmodels\n",
      "_compat_pickle      cmath               multiprocessing     storemagic\n",
      "_compression        cmd                 nacl                string\n",
      "_contextvars        code                navigator_updater   stringprep\n",
      "_csv                codecs              nbconvert           struct\n",
      "_ctypes             codeop              nbformat            subprocess\n",
      "_ctypes_test        collections         netbios             sunau\n",
      "_datetime           colorama            netrc               symbol\n",
      "_decimal            colorsys            networkx            sympy\n",
      "_dummy_thread       commctrl            new                 sympyprinting\n",
      "_elementtree        compileall          nltk                symtable\n",
      "_functools          comtypes            nntplib             sys\n",
      "_hashlib            concurrent          nose                sysconfig\n",
      "_heapq              conda               notebook            tables\n",
      "_imp                conda_build         nt                  tabnanny\n",
      "_io                 conda_env           ntpath              tarfile\n",
      "_json               conda_package_handling ntsecuritycon       tblib\n",
      "_locale             conda_verify        nturl2path          telnetlib\n",
      "_lsprof             configparser        numba               tempfile\n",
      "_lzma               contextlib          numbers             terminado\n",
      "_markupbase         contextlib2         numexpr             test\n",
      "_md5                contextvars         numpy               test_data\n",
      "_msi                copy                numpydoc            test_pycosat\n",
      "_multibytecodec     copyreg             odbc                testpath\n",
      "_multiprocessing    crypt               olefile             tests\n",
      "_nsis               cryptography        opcode              textwrap\n",
      "_opcode             csv                 openpyxl            this\n",
      "_operator           ctypes              operator            threading\n",
      "_osx_support        curl                optparse            threadpoolctl\n",
      "_overlapped         curses              os                  time\n",
      "_pickle             cwp                 packaging           timeit\n",
      "_py_abc             cycler              pandas              timer\n",
      "_pydecimal          cython              pandocfilters       tkinter\n",
      "_pyio               cythonmagic         paramiko            tlz\n",
      "_pyrsistent_version cytoolz             parser              token\n",
      "_pytest             dask                parso               tokenize\n",
      "_queue              dataclasses         partd               toml\n",
      "_random             datetime            past                toolz\n",
      "_sha1               dateutil            path                tornado\n",
      "_sha256             dbi                 pathlib             tqdm\n",
      "_sha3               dbm                 pathlib2            trace\n",
      "_sha512             dde                 pathtools           traceback\n",
      "_signal             decimal             patsy               tracemalloc\n",
      "_sitebuiltins       decorator           pdb                 traitlets\n",
      "_socket             defusedxml          pep8                tty\n",
      "_sqlite3            diff_match_patch    perfmon             turtle\n",
      "_sre                difflib             pexpect             turtledemo\n",
      "_ssl                dis                 pickle              types\n",
      "_stat               distributed         pickleshare         typing\n",
      "_statistics         distutils           pickletools         typing_extensions\n",
      "_string             doctest             pip                 ujson\n",
      "_strptime           docutils            pipes               unicodecsv\n",
      "_struct             dummy_threading     pkg_resources       unicodedata\n",
      "_symtable           easy_install        pkginfo             unittest\n",
      "_system_path        email               pkgutil             urllib\n",
      "_testbuffer         encodings           platform            urllib3\n",
      "_testcapi           ensurepip           plistlib            uu\n",
      "_testconsole        entrypoints         pluggy              uuid\n",
      "_testimportmultiple enum                ply                 venv\n",
      "_testinternalcapi   errno               poplib              warnings\n",
      "_testmultiphase     et_xmlfile          posixpath           watchdog\n",
      "_thread             fastcache           pprint              wave\n",
      "_threading_local    faulthandler        profile             wcwidth\n",
      "_tkinter            filecmp             prometheus_client   weakref\n",
      "_tracemalloc        fileinput           prompt_toolkit      webbrowser\n",
      "_warnings           filelock            pstats              webencodings\n",
      "_weakref            flake8              psutil              werkzeug\n",
      "_weakrefset         flask               pty                 wheel\n",
      "_win32sysloader     fnmatch             pvectorc            widgetsnbextension\n",
      "_winapi             folium              py                  win2kras\n",
      "_winxptheme         formatter           py_compile          win32api\n",
      "_xxsubinterpreters  fractions           pyclbr              win32clipboard\n",
      "_yaml               fsspec              pycodestyle         win32com\n",
      "abc                 ftplib              pycosat             win32con\n",
      "adodbapi            functools           pycparser           win32console\n",
      "afxres              future              pycurl              win32cred\n",
      "aifc                gc                  pydoc               win32crypt\n",
      "alabaster           genericpath         pydoc_data          win32cryptcon\n",
      "anaconda_navigator  getopt              pydocstyle          win32ctypes\n",
      "anaconda_project    getpass             pyexpat             win32event\n",
      "antigravity         gettext             pyflakes            win32evtlog\n",
      "archspec            gevent              pygments            win32evtlogutil\n",
      "argh                glob                pylab               win32file\n",
      "argparse            glob2               pylint              win32gui\n",
      "array               gmpy2               pyls                win32gui_struct\n",
      "asn1crypto          greenlet            pyls_jsonrpc        win32help\n",
      "ast                 gzip                pyodbc              win32inet\n",
      "astroid             h5py                pyparsing           win32inetcon\n",
      "astropy             hashlib             pyreadline          win32job\n",
      "asynchat            heapdict            pyrsistent          win32lz\n",
      "asyncio             heapq               pytest              win32net\n",
      "asyncore            hmac                pythoncom           win32netcon\n",
      "atexit              html                pytz                win32pdh\n",
      "atomicwrites        html5lib            pywin               win32pdhquery\n",
      "attr                http                pywin32_bootstrap   win32pdhutil\n",
      "audioop             idlelib             pywin32_testutil    win32pipe\n",
      "autopep8            idna                pywintypes          win32print\n",
      "autoreload          imageio             pywt                win32process\n",
      "babel               imagesize           pyximport           win32profile\n",
      "backcall            imaplib             qdarkstyle          win32ras\n",
      "backports           imghdr              qtawesome           win32rcparser\n",
      "base64              imp                 qtconsole           win32security\n",
      "bcrypt              importlib           qtpy                win32service\n",
      "bdb                 importlib_metadata  queue               win32serviceutil\n",
      "binascii            inspect             quopri              win32timezone\n",
      "binhex              intervaltree        random              win32trace\n",
      "binstar_client      io                  rasutil             win32traceutil\n",
      "bisect              ipaddress           re                  win32transaction\n",
      "bitarray            ipykernel           readline            win32ts\n",
      "bkcharts            ipykernel_launcher  regcheck            win32ui\n",
      "bleach              ipython_genutils    regex               win32uiole\n",
      "bokeh               ipywidgets          regutil             win32verstamp\n",
      "boto                isapi               reprlib             win32wnet\n",
      "bottleneck          isort               requests            win_inet_pton\n",
      "brain_argparse      isympy              rlcompleter         win_unicode_console\n",
      "brain_attrs         itertools           rmagic              wincertstore\n",
      "brain_boto3         itsdangerous        rope                winerror\n",
      "brain_builtin_inference jdcal               rtree               winioctlcon\n",
      "brain_collections   jedi                ruamel_yaml         winnt\n",
      "brain_crypt         jinja2              run                 winperf\n",
      "brain_curses        joblib              runpy               winpty\n",
      "brain_dataclasses   json                sched               winreg\n",
      "brain_dateutil      json5               scipy               winsound\n",
      "brain_fstrings      jsonschema          scripts             winxpgui\n",
      "brain_functools     jupyter             seaborn             winxptheme\n",
      "brain_gi            jupyter_client      secrets             wrapt\n",
      "brain_hashlib       jupyter_console     select              wsgiref\n",
      "brain_http          jupyter_core        selectors           xdrlib\n",
      "brain_io            jupyterlab          send2trash          xlrd\n",
      "brain_mechanize     jupyterlab_server   servicemanager      xlsxwriter\n",
      "brain_multiprocessing keyring             setuptools          xlwings\n",
      "brain_namedtuple_enum keyword             shelve              xlwt\n",
      "brain_nose          kiwisolver          shlex               xml\n",
      "brain_numpy_core_fromnumeric lazy_object_proxy   shutil              xmlrpc\n",
      "brain_numpy_core_function_base lib2to3             signal              xmltodict\n",
      "brain_numpy_core_multiarray libarchive          simplegeneric       xxsubtype\n",
      "brain_numpy_core_numeric libfuturize         singledispatch      yaml\n",
      "brain_numpy_core_numerictypes libpasteurize       singledispatch_helpers yapf\n",
      "brain_numpy_core_umath lief                sip                 yapftests\n",
      "brain_numpy_ndarray linecache           sipconfig           zict\n",
      "brain_numpy_random_mtrand llvmlite            sipdistutils        zipapp\n",
      "brain_numpy_utils   locale              site                zipfile\n",
      "brain_pkg_resources locket              six                 zipimport\n",
      "brain_pytest        logging             skimage             zipp\n",
      "brain_qt            lxml                sklearn             zlib\n",
      "brain_random        lzma                smtpd               zmq\n",
      "brain_re            mailbox             smtplib             zope\n",
      "brain_responses     mailcap             sndhdr              \n",
      "\n",
      "Enter any module name to get more help.  Or, type \"modules spam\" to search\n",
      "for modules whose name or summary contain the string \"spam\".\n",
      "\n",
      "None\n"
     ]
    }
   ],
   "source": [
    "print (help('modules'))"
   ]
  },
  {
   "cell_type": "code",
   "execution_count": 4,
   "metadata": {
    "collapsed": true
   },
   "outputs": [
    {
     "name": "stdout",
     "output_type": "stream",
     "text": [
      "Help on built-in module math:\n",
      "\n",
      "NAME\n",
      "    math\n",
      "\n",
      "DESCRIPTION\n",
      "    This module provides access to the mathematical functions\n",
      "    defined by the C standard.\n",
      "\n",
      "FUNCTIONS\n",
      "    acos(x, /)\n",
      "        Return the arc cosine (measured in radians) of x.\n",
      "    \n",
      "    acosh(x, /)\n",
      "        Return the inverse hyperbolic cosine of x.\n",
      "    \n",
      "    asin(x, /)\n",
      "        Return the arc sine (measured in radians) of x.\n",
      "    \n",
      "    asinh(x, /)\n",
      "        Return the inverse hyperbolic sine of x.\n",
      "    \n",
      "    atan(x, /)\n",
      "        Return the arc tangent (measured in radians) of x.\n",
      "    \n",
      "    atan2(y, x, /)\n",
      "        Return the arc tangent (measured in radians) of y/x.\n",
      "        \n",
      "        Unlike atan(y/x), the signs of both x and y are considered.\n",
      "    \n",
      "    atanh(x, /)\n",
      "        Return the inverse hyperbolic tangent of x.\n",
      "    \n",
      "    ceil(x, /)\n",
      "        Return the ceiling of x as an Integral.\n",
      "        \n",
      "        This is the smallest integer >= x.\n",
      "    \n",
      "    comb(n, k, /)\n",
      "        Number of ways to choose k items from n items without repetition and without order.\n",
      "        \n",
      "        Evaluates to n! / (k! * (n - k)!) when k <= n and evaluates\n",
      "        to zero when k > n.\n",
      "        \n",
      "        Also called the binomial coefficient because it is equivalent\n",
      "        to the coefficient of k-th term in polynomial expansion of the\n",
      "        expression (1 + x)**n.\n",
      "        \n",
      "        Raises TypeError if either of the arguments are not integers.\n",
      "        Raises ValueError if either of the arguments are negative.\n",
      "    \n",
      "    copysign(x, y, /)\n",
      "        Return a float with the magnitude (absolute value) of x but the sign of y.\n",
      "        \n",
      "        On platforms that support signed zeros, copysign(1.0, -0.0)\n",
      "        returns -1.0.\n",
      "    \n",
      "    cos(x, /)\n",
      "        Return the cosine of x (measured in radians).\n",
      "    \n",
      "    cosh(x, /)\n",
      "        Return the hyperbolic cosine of x.\n",
      "    \n",
      "    degrees(x, /)\n",
      "        Convert angle x from radians to degrees.\n",
      "    \n",
      "    dist(p, q, /)\n",
      "        Return the Euclidean distance between two points p and q.\n",
      "        \n",
      "        The points should be specified as sequences (or iterables) of\n",
      "        coordinates.  Both inputs must have the same dimension.\n",
      "        \n",
      "        Roughly equivalent to:\n",
      "            sqrt(sum((px - qx) ** 2.0 for px, qx in zip(p, q)))\n",
      "    \n",
      "    erf(x, /)\n",
      "        Error function at x.\n",
      "    \n",
      "    erfc(x, /)\n",
      "        Complementary error function at x.\n",
      "    \n",
      "    exp(x, /)\n",
      "        Return e raised to the power of x.\n",
      "    \n",
      "    expm1(x, /)\n",
      "        Return exp(x)-1.\n",
      "        \n",
      "        This function avoids the loss of precision involved in the direct evaluation of exp(x)-1 for small x.\n",
      "    \n",
      "    fabs(x, /)\n",
      "        Return the absolute value of the float x.\n",
      "    \n",
      "    factorial(x, /)\n",
      "        Find x!.\n",
      "        \n",
      "        Raise a ValueError if x is negative or non-integral.\n",
      "    \n",
      "    floor(x, /)\n",
      "        Return the floor of x as an Integral.\n",
      "        \n",
      "        This is the largest integer <= x.\n",
      "    \n",
      "    fmod(x, y, /)\n",
      "        Return fmod(x, y), according to platform C.\n",
      "        \n",
      "        x % y may differ.\n",
      "    \n",
      "    frexp(x, /)\n",
      "        Return the mantissa and exponent of x, as pair (m, e).\n",
      "        \n",
      "        m is a float and e is an int, such that x = m * 2.**e.\n",
      "        If x is 0, m and e are both 0.  Else 0.5 <= abs(m) < 1.0.\n",
      "    \n",
      "    fsum(seq, /)\n",
      "        Return an accurate floating point sum of values in the iterable seq.\n",
      "        \n",
      "        Assumes IEEE-754 floating point arithmetic.\n",
      "    \n",
      "    gamma(x, /)\n",
      "        Gamma function at x.\n",
      "    \n",
      "    gcd(x, y, /)\n",
      "        greatest common divisor of x and y\n",
      "    \n",
      "    hypot(...)\n",
      "        hypot(*coordinates) -> value\n",
      "        \n",
      "        Multidimensional Euclidean distance from the origin to a point.\n",
      "        \n",
      "        Roughly equivalent to:\n",
      "            sqrt(sum(x**2 for x in coordinates))\n",
      "        \n",
      "        For a two dimensional point (x, y), gives the hypotenuse\n",
      "        using the Pythagorean theorem:  sqrt(x*x + y*y).\n",
      "        \n",
      "        For example, the hypotenuse of a 3/4/5 right triangle is:\n",
      "        \n",
      "            >>> hypot(3.0, 4.0)\n",
      "            5.0\n",
      "    \n",
      "    isclose(a, b, *, rel_tol=1e-09, abs_tol=0.0)\n",
      "        Determine whether two floating point numbers are close in value.\n",
      "        \n",
      "          rel_tol\n",
      "            maximum difference for being considered \"close\", relative to the\n",
      "            magnitude of the input values\n",
      "          abs_tol\n",
      "            maximum difference for being considered \"close\", regardless of the\n",
      "            magnitude of the input values\n",
      "        \n",
      "        Return True if a is close in value to b, and False otherwise.\n",
      "        \n",
      "        For the values to be considered close, the difference between them\n",
      "        must be smaller than at least one of the tolerances.\n",
      "        \n",
      "        -inf, inf and NaN behave similarly to the IEEE 754 Standard.  That\n",
      "        is, NaN is not close to anything, even itself.  inf and -inf are\n",
      "        only close to themselves.\n",
      "    \n",
      "    isfinite(x, /)\n",
      "        Return True if x is neither an infinity nor a NaN, and False otherwise.\n",
      "    \n",
      "    isinf(x, /)\n",
      "        Return True if x is a positive or negative infinity, and False otherwise.\n",
      "    \n",
      "    isnan(x, /)\n",
      "        Return True if x is a NaN (not a number), and False otherwise.\n",
      "    \n",
      "    isqrt(n, /)\n",
      "        Return the integer part of the square root of the input.\n",
      "    \n",
      "    ldexp(x, i, /)\n",
      "        Return x * (2**i).\n",
      "        \n",
      "        This is essentially the inverse of frexp().\n",
      "    \n",
      "    lgamma(x, /)\n",
      "        Natural logarithm of absolute value of Gamma function at x.\n",
      "    \n",
      "    log(...)\n",
      "        log(x, [base=math.e])\n",
      "        Return the logarithm of x to the given base.\n",
      "        \n",
      "        If the base not specified, returns the natural logarithm (base e) of x.\n",
      "    \n",
      "    log10(x, /)\n",
      "        Return the base 10 logarithm of x.\n",
      "    \n",
      "    log1p(x, /)\n",
      "        Return the natural logarithm of 1+x (base e).\n",
      "        \n",
      "        The result is computed in a way which is accurate for x near zero.\n",
      "    \n",
      "    log2(x, /)\n",
      "        Return the base 2 logarithm of x.\n",
      "    \n",
      "    modf(x, /)\n",
      "        Return the fractional and integer parts of x.\n",
      "        \n",
      "        Both results carry the sign of x and are floats.\n",
      "    \n",
      "    perm(n, k=None, /)\n",
      "        Number of ways to choose k items from n items without repetition and with order.\n",
      "        \n",
      "        Evaluates to n! / (n - k)! when k <= n and evaluates\n",
      "        to zero when k > n.\n",
      "        \n",
      "        If k is not specified or is None, then k defaults to n\n",
      "        and the function returns n!.\n",
      "        \n",
      "        Raises TypeError if either of the arguments are not integers.\n",
      "        Raises ValueError if either of the arguments are negative.\n",
      "    \n",
      "    pow(x, y, /)\n",
      "        Return x**y (x to the power of y).\n",
      "    \n",
      "    prod(iterable, /, *, start=1)\n",
      "        Calculate the product of all the elements in the input iterable.\n",
      "        \n",
      "        The default start value for the product is 1.\n",
      "        \n",
      "        When the iterable is empty, return the start value.  This function is\n",
      "        intended specifically for use with numeric values and may reject\n",
      "        non-numeric types.\n",
      "    \n",
      "    radians(x, /)\n",
      "        Convert angle x from degrees to radians.\n",
      "    \n",
      "    remainder(x, y, /)\n",
      "        Difference between x and the closest integer multiple of y.\n",
      "        \n",
      "        Return x - n*y where n*y is the closest integer multiple of y.\n",
      "        In the case where x is exactly halfway between two multiples of\n",
      "        y, the nearest even value of n is used. The result is always exact.\n",
      "    \n",
      "    sin(x, /)\n",
      "        Return the sine of x (measured in radians).\n",
      "    \n",
      "    sinh(x, /)\n",
      "        Return the hyperbolic sine of x.\n",
      "    \n",
      "    sqrt(x, /)\n",
      "        Return the square root of x.\n",
      "    \n",
      "    tan(x, /)\n",
      "        Return the tangent of x (measured in radians).\n",
      "    \n",
      "    tanh(x, /)\n",
      "        Return the hyperbolic tangent of x.\n",
      "    \n",
      "    trunc(x, /)\n",
      "        Truncates the Real x to the nearest Integral toward 0.\n",
      "        \n",
      "        Uses the __trunc__ magic method.\n",
      "\n",
      "DATA\n",
      "    e = 2.718281828459045\n",
      "    inf = inf\n",
      "    nan = nan\n",
      "    pi = 3.141592653589793\n",
      "    tau = 6.283185307179586\n",
      "\n",
      "FILE\n",
      "    (built-in)\n",
      "\n",
      "\n",
      "None\n"
     ]
    }
   ],
   "source": [
    "print (help('math'))"
   ]
  },
  {
   "cell_type": "code",
   "execution_count": 5,
   "metadata": {
    "collapsed": true
   },
   "outputs": [],
   "source": [
    "import math"
   ]
  },
  {
   "cell_type": "code",
   "execution_count": 6,
   "metadata": {},
   "outputs": [
    {
     "data": {
      "text/plain": [
       "0.8939966636005579"
      ]
     },
     "execution_count": 6,
     "metadata": {},
     "output_type": "execute_result"
    }
   ],
   "source": [
    "math.sin(90)"
   ]
  },
  {
   "cell_type": "code",
   "execution_count": 7,
   "metadata": {},
   "outputs": [
    {
     "data": {
      "text/plain": [
       "1.0"
      ]
     },
     "execution_count": 7,
     "metadata": {},
     "output_type": "execute_result"
    }
   ],
   "source": [
    "math.cos(0)"
   ]
  },
  {
   "cell_type": "code",
   "execution_count": 8,
   "metadata": {
    "collapsed": true
   },
   "outputs": [],
   "source": [
    "import mod"
   ]
  },
  {
   "cell_type": "code",
   "execution_count": 9,
   "metadata": {},
   "outputs": [
    {
     "name": "stdout",
     "output_type": "stream",
     "text": [
      "11\n"
     ]
    }
   ],
   "source": [
    "mod.sum(6,5)"
   ]
  },
  {
   "cell_type": "code",
   "execution_count": 10,
   "metadata": {},
   "outputs": [
    {
     "name": "stdout",
     "output_type": "stream",
     "text": [
      "30\n"
     ]
    }
   ],
   "source": [
    "mod.multiply(6,5)"
   ]
  },
  {
   "cell_type": "code",
   "execution_count": 11,
   "metadata": {
    "collapsed": true
   },
   "outputs": [],
   "source": [
    "from new import minus"
   ]
  },
  {
   "cell_type": "code",
   "execution_count": 15,
   "metadata": {},
   "outputs": [
    {
     "name": "stdout",
     "output_type": "stream",
     "text": [
      "11\n"
     ]
    }
   ],
   "source": [
    "new.sum(6,5)"
   ]
  },
  {
   "cell_type": "code",
   "execution_count": 14,
   "metadata": {},
   "outputs": [
    {
     "name": "stdout",
     "output_type": "stream",
     "text": [
      "1\n"
     ]
    }
   ],
   "source": [
    "new.minus(6,5)"
   ]
  },
  {
   "cell_type": "code",
   "execution_count": 12,
   "metadata": {
    "collapsed": true
   },
   "outputs": [],
   "source": [
    "import new"
   ]
  },
  {
   "cell_type": "code",
   "execution_count": 13,
   "metadata": {
    "collapsed": true
   },
   "outputs": [],
   "source": [
    "from new import sum"
   ]
  },
  {
   "cell_type": "code",
   "execution_count": 17,
   "metadata": {
    "collapsed": true
   },
   "outputs": [],
   "source": [
    "from new import *"
   ]
  },
  {
   "cell_type": "code",
   "execution_count": 18,
   "metadata": {},
   "outputs": [
    {
     "ename": "ModuleNotFoundError",
     "evalue": "No module named 'mathematics'",
     "output_type": "error",
     "traceback": [
      "\u001b[1;31m---------------------------------------------------------------------------\u001b[0m",
      "\u001b[1;31mModuleNotFoundError\u001b[0m                       Traceback (most recent call last)",
      "\u001b[1;32m<ipython-input-18-5b87ea88d98f>\u001b[0m in \u001b[0;36m<module>\u001b[1;34m\u001b[0m\n\u001b[1;32m----> 1\u001b[1;33m \u001b[1;32mimport\u001b[0m \u001b[0mmathematics\u001b[0m\u001b[1;33m\u001b[0m\u001b[1;33m\u001b[0m\u001b[0m\n\u001b[0m",
      "\u001b[1;31mModuleNotFoundError\u001b[0m: No module named 'mathematics'"
     ]
    }
   ],
   "source": [
    "import mathematics"
   ]
  },
  {
   "cell_type": "code",
   "execution_count": 30,
   "metadata": {},
   "outputs": [
    {
     "name": "stdout",
     "output_type": "stream",
     "text": [
      "a= 10\n",
      "a= 20\n"
     ]
    },
    {
     "ename": "NameError",
     "evalue": "name 'b' is not defined",
     "output_type": "error",
     "traceback": [
      "\u001b[1;31m---------------------------------------------------------------------------\u001b[0m",
      "\u001b[1;31mNameError\u001b[0m                                 Traceback (most recent call last)",
      "\u001b[1;32m<ipython-input-30-d06d35fb4c96>\u001b[0m in \u001b[0;36m<module>\u001b[1;34m\u001b[0m\n\u001b[0;32m      8\u001b[0m \u001b[0ma\u001b[0m\u001b[1;33m=\u001b[0m\u001b[1;36m15\u001b[0m\u001b[1;33m\u001b[0m\u001b[1;33m\u001b[0m\u001b[0m\n\u001b[0;32m      9\u001b[0m \u001b[0minner\u001b[0m\u001b[1;33m(\u001b[0m\u001b[1;33m)\u001b[0m\u001b[1;33m\u001b[0m\u001b[1;33m\u001b[0m\u001b[0m\n\u001b[1;32m---> 10\u001b[1;33m \u001b[0mprint\u001b[0m\u001b[1;33m(\u001b[0m\u001b[1;34m\"b=\"\u001b[0m\u001b[1;33m,\u001b[0m \u001b[0mb\u001b[0m\u001b[1;33m)\u001b[0m\u001b[1;33m\u001b[0m\u001b[1;33m\u001b[0m\u001b[0m\n\u001b[0m",
      "\u001b[1;31mNameError\u001b[0m: name 'b' is not defined"
     ]
    }
   ],
   "source": [
    "def outer():\n",
    "    a=10\n",
    "    print(\"a=\",a)\n",
    "def inner():\n",
    "    a=20\n",
    "    print (\"a=\",a)\n",
    "outer()\n",
    "a=15\n",
    "inner()\n",
    "print(\"b=\", b)\n"
   ]
  },
  {
   "cell_type": "code",
   "execution_count": null,
   "metadata": {
    "collapsed": true
   },
   "outputs": [],
   "source": []
  }
 ],
 "metadata": {
  "kernelspec": {
   "display_name": "Python 3",
   "language": "python",
   "name": "python3"
  },
  "language_info": {
   "codemirror_mode": {
    "name": "ipython",
    "version": 3
   },
   "file_extension": ".py",
   "mimetype": "text/x-python",
   "name": "python",
   "nbconvert_exporter": "python",
   "pygments_lexer": "ipython3",
   "version": "3.6.1"
  }
 },
 "nbformat": 4,
 "nbformat_minor": 4
}
