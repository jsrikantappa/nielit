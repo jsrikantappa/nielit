{
 "cells": [
  {
   "cell_type": "code",
   "execution_count": 3,
   "metadata": {},
   "outputs": [],
   "source": [
    "from tkinter import *\n",
    "root=Tk()#Tk=toolkit\n",
    "photo=PhotoImage(file=r\"D:\\leaf.png\")\n",
    "label1=Label(root,text='hello',image=photo)\n",
    "label1.pack()\n",
    "root.mainloop()"
   ]
  },
  {
   "cell_type": "markdown",
   "metadata": {},
   "source": [
    "# Frame"
   ]
  },
  {
   "cell_type": "code",
   "execution_count": 15,
   "metadata": {},
   "outputs": [],
   "source": [
    "from tkinter import *\n",
    "root=Tk()#Tk=toolkit\n",
    "w=Frame(root,width=500,height=750,bg='green')\n",
    "w.pack()\n",
    "root.mainloop()"
   ]
  },
  {
   "cell_type": "markdown",
   "metadata": {},
   "source": [
    "# button"
   ]
  },
  {
   "cell_type": "code",
   "execution_count": 18,
   "metadata": {},
   "outputs": [],
   "source": [
    "from tkinter import *\n",
    "root=Tk()#Tk=toolkit\n",
    "def new():\n",
    "    Label(root,text='hello').pack()\n",
    "button=Button(root,text='hi',command=new)\n",
    "button.pack()\n",
    "root.mainloop()"
   ]
  },
  {
   "cell_type": "markdown",
   "metadata": {},
   "source": [
    "# pack"
   ]
  },
  {
   "cell_type": "code",
   "execution_count": 23,
   "metadata": {},
   "outputs": [],
   "source": [
    "from tkinter import *\n",
    "root=Tk()#Tk=toolkit\n",
    "#photo=PhotoImage(file=r\"D:\\leaf.png\")\n",
    "label1=Label(root,text='hello',relief='solid')\n",
    "label1.pack(side=RIGHT,fill=X)\n",
    "label2=Label(root,text='hello world',relief='solid')\n",
    "label2.pack(expand=False)\n",
    "label3=Label(root,text='hello',relief='solid')\n",
    "label3.pack(side=BOTTOM)\n",
    "root.mainloop()"
   ]
  },
  {
   "cell_type": "markdown",
   "metadata": {},
   "source": [
    "# grid"
   ]
  },
  {
   "cell_type": "code",
   "execution_count": 25,
   "metadata": {},
   "outputs": [],
   "source": [
    "from tkinter import *\n",
    "root=Tk()#Tk=toolkit\n",
    "def new():\n",
    "    Label(root,text='hello').pack()\n",
    "button=Button(root,text='hi',command=new)\n",
    "button.grid(padx=20,pady=40,ipadx=30,ipady=25)\n",
    "button1=Button(root,text='hi',command=new)\n",
    "button1.grid(padx=20,pady=75,ipadx=30,ipady=55)\n",
    "button2=Button(root,text='hi',command=new)\n",
    "button2.grid(padx=20,pady=100,ipadx=30,ipady=85)\n",
    "root.mainloop()"
   ]
  },
  {
   "cell_type": "code",
   "execution_count": 28,
   "metadata": {},
   "outputs": [],
   "source": [
    "from tkinter import *\n",
    "root=Tk()#Tk=toolkit\n",
    "#photo=PhotoImage(file=r\"D:\\leaf.png\")\n",
    "label1=Label(root,text='user name',relief='solid')\n",
    "label1.grid(row=0,sticky=E)\n",
    "e1=Entry(root)\n",
    "e2=Entry(root)\n",
    "label2=Label(root,text='pass word',relief='solid')\n",
    "label2.grid(column=1,sticky=E)\n",
    "e1.grid(row=0,column=1)\n",
    "e2.grid(row=1,column=0)\n",
    "c=Checkbutton(root,text='keep me logged in')\n",
    "c.grid(columnspan=2)\n",
    "root.mainloop()"
   ]
  },
  {
   "cell_type": "markdown",
   "metadata": {},
   "source": [
    "# menu"
   ]
  },
  {
   "cell_type": "code",
   "execution_count": 30,
   "metadata": {},
   "outputs": [],
   "source": [
    "from tkinter import *\n",
    "root=Tk()#Tk=toolkit\n",
    "menubar=Menu(root)\n",
    "root.config(menu=menubar)\n",
    "#create a pull-down menu & add it to the menu bar\n",
    "filemenu=Menu(menubar,tearoff=0)\n",
    "filemenu.add_command(label='New')\n",
    "filemenu.add_command(label='open')\n",
    "filemenu.add_command(label='save')\n",
    "menubar.add_cascade(label='File',menu=filemenu)\n",
    "root.mainloop()"
   ]
  },
  {
   "cell_type": "code",
   "execution_count": null,
   "metadata": {},
   "outputs": [],
   "source": []
  }
 ],
 "metadata": {
  "kernelspec": {
   "display_name": "Python 3",
   "language": "python",
   "name": "python3"
  },
  "language_info": {
   "codemirror_mode": {
    "name": "ipython",
    "version": 3
   },
   "file_extension": ".py",
   "mimetype": "text/x-python",
   "name": "python",
   "nbconvert_exporter": "python",
   "pygments_lexer": "ipython3",
   "version": "3.7.6"
  }
 },
 "nbformat": 4,
 "nbformat_minor": 4
}
