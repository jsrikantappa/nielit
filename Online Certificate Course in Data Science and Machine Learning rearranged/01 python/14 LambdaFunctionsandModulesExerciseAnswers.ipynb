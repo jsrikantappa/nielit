{
 "cells": [
  {
   "cell_type": "markdown",
   "metadata": {},
   "source": [
    "### Lambda Functions and Modules Exercise"
   ]
  },
  {
   "cell_type": "raw",
   "metadata": {},
   "source": [
    "1) Write a Python program to create a function that takes one argument, and\n",
    "that argument will be multiplied with an unknown given number.\n",
    "Eg:\n",
    "def sum(n):\n",
    "return lambda x:x+n\n",
    "\n",
    "result=sum(10)\n",
    "print (result(5))\n",
    "Output: 15\n",
    "Here n takes 10 and x takes 5 "
   ]
  },
  {
   "cell_type": "code",
   "execution_count": 1,
   "metadata": {},
   "outputs": [
    {
     "name": "stdout",
     "output_type": "stream",
     "text": [
      "5\n",
      "5\n",
      "25\n"
     ]
    }
   ],
   "source": [
    "def mul(n):\n",
    "\n",
    "    return lambda x:x*n\n",
    "\n",
    "a=input()\n",
    "a=int(a)\n",
    "b=input()\n",
    "b=int(b)\n",
    "\n",
    "result=mul(a)\n",
    "print (result(b))\n"
   ]
  },
  {
   "cell_type": "raw",
   "metadata": {},
   "source": [
    "2) Import builtin module time and find a builtin find inside time so that it\n",
    "gives you the current time \n"
   ]
  },
  {
   "cell_type": "code",
   "execution_count": 2,
   "metadata": {},
   "outputs": [
    {
     "data": {
      "text/plain": [
       "time.struct_time(tm_year=2020, tm_mon=9, tm_mday=11, tm_hour=18, tm_min=45, tm_sec=35, tm_wday=4, tm_yday=255, tm_isdst=0)"
      ]
     },
     "execution_count": 2,
     "metadata": {},
     "output_type": "execute_result"
    }
   ],
   "source": [
    "import time as t \n",
    "t.localtime() "
   ]
  },
  {
   "cell_type": "raw",
   "metadata": {},
   "source": [
    "3) Create user defined module named ‘formulas’, where you define a\n",
    "function. Under function, find values for three formulas namely, a2+b2+2ab,a2-b2-2ab, (a+b)(a-b). \n",
    "Call the user defined modules from another function\n",
    "and try to get output of all three formulas for a=5, b=3"
   ]
  },
  {
   "cell_type": "code",
   "execution_count": 3,
   "metadata": {},
   "outputs": [
    {
     "name": "stdout",
     "output_type": "stream",
     "text": [
      "25 1 -5\n"
     ]
    }
   ],
   "source": [
    "import formulas\n",
    "print(formulas.aplusb(2,3),formulas.aminusb(2,3),formulas.apmb(2,3))"
   ]
  },
  {
   "cell_type": "raw",
   "metadata": {},
   "source": [
    "4) Write a module in which one function to return biggest of two numbers,\n",
    "another to return smallest of two numbers, another to return numbers are\n",
    "equal, whenever you call the module, automatically it should ask two values\n",
    "to perform comparison. \n"
   ]
  },
  {
   "cell_type": "code",
   "execution_count": 5,
   "metadata": {},
   "outputs": [
    {
     "name": "stdout",
     "output_type": "stream",
     "text": [
      "3\n",
      "4\n",
      "4 3 Not equal\n"
     ]
    }
   ],
   "source": [
    "'''a=input()\n",
    "b=input()\n",
    "\n",
    "#biggest\n",
    "if a>b:   \n",
    "    print('a biggest ',a)\n",
    "elif b>a:\n",
    "    print('b biggest ',b)\n",
    "         \n",
    "#Smallest\n",
    "\n",
    "if a<b:\n",
    "    print('a smallest ',a)\n",
    "elif b<a:\n",
    "    print('b smallest ',b)\n",
    "    \n",
    "#equal\n",
    "if a==b:\n",
    "    print('a is equal to b',a)\n",
    "else:\n",
    "     print('a is not equal to b')\n",
    "    \n",
    "'''\n",
    "a=[input(),input()]\n",
    "#print(a)\n",
    "#b=input()\n",
    "#biggest= lambda a,b: a if a>b else ( b if b>a)\n",
    "#smallest= lambda a,b: a if a<b else ( b if b<a)\n",
    "#equal= lambda a,b: a if a==b \n",
    "big=lambda a: max(a)\n",
    "\n",
    "small=lambda a: min(a)\n",
    "\n",
    "equal=lambda a: a+['Both values are equal'] if(a[0]==a[1]) else 'Not equal'\n",
    "\n",
    "#print('The biggest number is '+big(a))\n",
    "#print('The smalles number is '+small(a))\n",
    "#print( equal(a) )\n",
    "\n",
    "print( big(a),small(a), equal(a) )"
   ]
  },
  {
   "cell_type": "code",
   "execution_count": 6,
   "metadata": {},
   "outputs": [
    {
     "name": "stdout",
     "output_type": "stream",
     "text": [
      "4\n",
      "5\n",
      "Biggest is 5 Smallest is 4 and number are not equal Not equal\n"
     ]
    }
   ],
   "source": [
    "import compare"
   ]
  },
  {
   "cell_type": "raw",
   "metadata": {},
   "source": [
    "5) Write a recursive function to add sum of numbers for n from 1 till n: For\n",
    "eg, if n=10, then it should add 10+9+8+7+6+5+4+3+2+1 and return result as\n",
    "55"
   ]
  },
  {
   "cell_type": "code",
   "execution_count": 7,
   "metadata": {},
   "outputs": [
    {
     "data": {
      "text/plain": [
       "55"
      ]
     },
     "execution_count": 7,
     "metadata": {},
     "output_type": "execute_result"
    }
   ],
   "source": [
    "'''def sum_number(n):\n",
    "    if n==1:\n",
    "        return 1\n",
    "    if n==4:\n",
    "        return 1\n",
    "    else:\n",
    "        return  (n+sum_number(n-1)) #lambda n: i+i for i in range(1,n)'''\n",
    "\n",
    "sum_number=lambda x: 1 if (x==1) else x+ sum_number(x-1)\n",
    "sum_number(10)"
   ]
  }
 ],
 "metadata": {
  "kernelspec": {
   "display_name": "Python 3",
   "language": "python",
   "name": "python3"
  },
  "language_info": {
   "codemirror_mode": {
    "name": "ipython",
    "version": 3
   },
   "file_extension": ".py",
   "mimetype": "text/x-python",
   "name": "python",
   "nbconvert_exporter": "python",
   "pygments_lexer": "ipython3",
   "version": "3.6.1"
  }
 },
 "nbformat": 4,
 "nbformat_minor": 2
}
