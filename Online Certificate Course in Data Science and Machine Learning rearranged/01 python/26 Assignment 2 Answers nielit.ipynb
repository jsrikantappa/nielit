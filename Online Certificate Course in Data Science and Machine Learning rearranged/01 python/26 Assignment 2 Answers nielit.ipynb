{
 "cells": [
  {
   "cell_type": "raw",
   "metadata": {
    "collapsed": true
   },
   "source": [
    "1] What will be the output of the following Python code?\n",
    "b) [1,4,9]"
   ]
  },
  {
   "cell_type": "raw",
   "metadata": {},
   "source": [
    "2] Is the following code valid?\n",
    "d) Yes "
   ]
  },
  {
   "cell_type": "raw",
   "metadata": {},
   "source": [
    "3] What is the output of the following code?\n",
    "b) 2"
   ]
  },
  {
   "cell_type": "raw",
   "metadata": {
    "collapsed": true
   },
   "source": [
    "4] What is the output of the code shown below?\n",
    "c) No output"
   ]
  },
  {
   "cell_type": "raw",
   "metadata": {
    "collapsed": true
   },
   "source": [
    "5]What happens if the file is not found in the code shown below?\n",
    "a) No error"
   ]
  },
  {
   "cell_type": "raw",
   "metadata": {
    "collapsed": true
   },
   "source": [
    "6]What will be the output of the following Python code?\n",
    "c) “Hello World” is displayed"
   ]
  },
  {
   "cell_type": "raw",
   "metadata": {
    "collapsed": true
   },
   "source": [
    "7]What will be the output of the following Python code?\n",
    "c) ‘Old’ is printed"
   ]
  },
  {
   "cell_type": "raw",
   "metadata": {
    "collapsed": true
   },
   "source": [
    "8] What is the use of seek() method in files?\n",
    "a) sets the file’s current position at the offset"
   ]
  },
  {
   "cell_type": "raw",
   "metadata": {
    "collapsed": true
   },
   "source": [
    "9] Which of the following is not a valid mode to open a file?\n",
    "b) rw"
   ]
  },
  {
   "cell_type": "raw",
   "metadata": {
    "collapsed": true
   },
   "source": [
    "10] How do you change the file position to an offset value from the start?\n",
    "d) none of the mentioned"
   ]
  },
  {
   "cell_type": "raw",
   "metadata": {
    "collapsed": true
   },
   "source": [
    "11]What is the output of the following?\n",
    "a) 1"
   ]
  },
  {
   "cell_type": "code",
   "execution_count": 5,
   "metadata": {},
   "outputs": [
    {
     "name": "stdout",
     "output_type": "stream",
     "text": [
      "103\n"
     ]
    }
   ],
   "source": [
    "#12] Write a Python program to Count the Number of Words in a Text File\n",
    "\n",
    "def countwords():\n",
    "    file=open(\"sample.txt\",'r')\n",
    "    file_txt = file.read()\n",
    "    cnt=0\n",
    "    count = file_txt.split()\n",
    "    for i in count: \n",
    "        cnt+=1\n",
    "    print(cnt)\n",
    "    \n",
    "countwords()"
   ]
  },
  {
   "cell_type": "code",
   "execution_count": 6,
   "metadata": {},
   "outputs": [
    {
     "name": "stdout",
     "output_type": "stream",
     "text": [
      "6\n"
     ]
    }
   ],
   "source": [
    "#13] Write a Python program to count the number of lines in a text file.\n",
    "def countlines():\n",
    "    file=open(\"sample.txt\",'r')\n",
    "    file_txt = file.read()\n",
    "    cnt=0\n",
    "    count = file_txt.split('\\n')\n",
    "    for l in count: \n",
    "        cnt+=1\n",
    "    print(cnt)\n",
    "    \n",
    "countlines()"
   ]
  },
  {
   "cell_type": "code",
   "execution_count": 7,
   "metadata": {},
   "outputs": [
    {
     "name": "stdout",
     "output_type": "stream",
     "text": [
      "22 5 7 8\n",
      "This is the even number  22\n",
      "This is the even number  8\n"
     ]
    }
   ],
   "source": [
    "#14] Write a Python program to print the even numbers from a given list.\n",
    "\n",
    "def printeven():\n",
    "    list1=input()\n",
    "    list1= list1.split()\n",
    "    \n",
    "    for i in list1:\n",
    "        if(int(i)%2==0):\n",
    "            print('This is the even number ',i)\n",
    "    \n",
    "printeven()"
   ]
  },
  {
   "cell_type": "code",
   "execution_count": 8,
   "metadata": {},
   "outputs": [
    {
     "name": "stdout",
     "output_type": "stream",
     "text": [
      "Input the lower limit for range\n",
      "3\n",
      "Input the maximum limit for range greater than lower limit\n",
      "10\n",
      "Input the number to check\n",
      "5\n",
      "Number is in range\n"
     ]
    }
   ],
   "source": [
    "#15] Write a Python function to check whether a number is in a given range.\n",
    "def checkrange():\n",
    "    print('Input the lower limit for range')\n",
    "    low=input()\n",
    "    print('Input the maximum limit for range greater than lower limit')\n",
    "    max=input()\n",
    "    print('Input the number to check')\n",
    "    num=input()\n",
    "    if (int(num) >= int(low) and int(num) <= int(max)):\n",
    "        print('Number is in range')\n",
    "    else:\n",
    "        print('Number is out of range')\n",
    "\n",
    "        \n",
    "checkrange()\n",
    "    \n",
    "    "
   ]
  },
  {
   "cell_type": "code",
   "execution_count": 9,
   "metadata": {},
   "outputs": [
    {
     "name": "stdout",
     "output_type": "stream",
     "text": [
      "Input the string that to be reversed\n",
      "DataScience\n"
     ]
    },
    {
     "data": {
      "text/plain": [
       "'ecneicSataD'"
      ]
     },
     "execution_count": 9,
     "metadata": {},
     "output_type": "execute_result"
    }
   ],
   "source": [
    "#16] Write a Python program to reverse a string.\n",
    "\n",
    "def stringreverse():\n",
    "    print('Input the string that to be reversed')\n",
    "    string=input()\n",
    "    reversed_o=''\n",
    "    for i in reversed(string):\n",
    "        reversed_o+=i\n",
    "    return reversed_o\n",
    "stringreverse()\n",
    "        "
   ]
  },
  {
   "cell_type": "code",
   "execution_count": 10,
   "metadata": {},
   "outputs": [
    {
     "data": {
      "text/plain": [
       "[1, 4, 9, 16, 25, 36, 49, 64, 81, 100]"
      ]
     },
     "execution_count": 10,
     "metadata": {},
     "output_type": "execute_result"
    }
   ],
   "source": [
    "#17] Write a Python function to create and print a list where the values are square\n",
    "#of numbers between 1 and 10\n",
    "\n",
    "def sq_list():\n",
    "    value=[]\n",
    "    for i in range(1,11): \n",
    "        value.append(i*i)\n",
    "    return value \n",
    "sq_list()"
   ]
  }
 ],
 "metadata": {
  "kernelspec": {
   "display_name": "Python 3",
   "language": "python",
   "name": "python3"
  },
  "language_info": {
   "codemirror_mode": {
    "name": "ipython",
    "version": 3
   },
   "file_extension": ".py",
   "mimetype": "text/x-python",
   "name": "python",
   "nbconvert_exporter": "python",
   "pygments_lexer": "ipython3",
   "version": "3.6.1"
  },
  "widgets": {
   "application/vnd.jupyter.widget-state+json": {
    "state": {},
    "version_major": 1,
    "version_minor": 0
   }
  }
 },
 "nbformat": 4,
 "nbformat_minor": 2
}
