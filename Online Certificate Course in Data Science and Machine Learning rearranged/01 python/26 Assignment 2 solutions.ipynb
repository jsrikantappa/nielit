{
 "cells": [
  {
   "cell_type": "markdown",
   "metadata": {},
   "source": [
    "##### 1: Name Clash"
   ]
  },
  {
   "cell_type": "code",
   "execution_count": 1,
   "metadata": {},
   "outputs": [
    {
     "name": "stdout",
     "output_type": "stream",
     "text": [
      "[1, 4, 9]\n"
     ]
    }
   ],
   "source": [
    "from mod1 import change \n",
    "from mod2 import change \n",
    "s=[1,2,3] \n",
    "change(s)"
   ]
  },
  {
   "cell_type": "markdown",
   "metadata": {},
   "source": [
    "##### 2:Yes"
   ]
  },
  {
   "cell_type": "code",
   "execution_count": 2,
   "metadata": {},
   "outputs": [
    {
     "name": "stdout",
     "output_type": "stream",
     "text": [
      "A\n",
      "C\n"
     ]
    }
   ],
   "source": [
    "try:\n",
    "    print(\"A\")\n",
    "except:\n",
    "    print(\"B\")\n",
    "else:\n",
    "    print(\"C\")"
   ]
  },
  {
   "cell_type": "markdown",
   "metadata": {},
   "source": [
    "##### 3:2"
   ]
  },
  {
   "cell_type": "code",
   "execution_count": 3,
   "metadata": {},
   "outputs": [
    {
     "name": "stdout",
     "output_type": "stream",
     "text": [
      "2\n"
     ]
    }
   ],
   "source": [
    "def foo():\n",
    "    try:\n",
    "        return 1\n",
    "    finally:\n",
    "        return 2\n",
    "k =foo()\n",
    "print(k)"
   ]
  },
  {
   "cell_type": "markdown",
   "metadata": {},
   "source": [
    "##### 4:No output"
   ]
  },
  {
   "cell_type": "code",
   "execution_count": 4,
   "metadata": {},
   "outputs": [],
   "source": [
    "x=10 \n",
    "y=8 \n",
    "assert x>y,'X too small'"
   ]
  },
  {
   "cell_type": "markdown",
   "metadata": {},
   "source": [
    "##### 5:No error"
   ]
  },
  {
   "cell_type": "code",
   "execution_count": 5,
   "metadata": {},
   "outputs": [
    {
     "ename": "IndentationError",
     "evalue": "unexpected indent (<ipython-input-5-1c8ef43daae8>, line 3)",
     "output_type": "error",
     "traceback": [
      "\u001b[1;36m  File \u001b[1;32m\"<ipython-input-5-1c8ef43daae8>\"\u001b[1;36m, line \u001b[1;32m3\u001b[0m\n\u001b[1;33m    try:\u001b[0m\n\u001b[1;37m    ^\u001b[0m\n\u001b[1;31mIndentationError\u001b[0m\u001b[1;31m:\u001b[0m unexpected indent\n"
     ]
    }
   ],
   "source": [
    "a=False\n",
    "#while not a: (UnComment it for seeing output)\n",
    "    try:\n",
    "        f_n=input(\"Enter file name\")\n",
    "        i_f=open(f_n,'r')\n",
    "    except:\n",
    "        print(\"Input file not found\")"
   ]
  },
  {
   "cell_type": "markdown",
   "metadata": {},
   "source": [
    "##### 6:Hello world is displayed"
   ]
  },
  {
   "cell_type": "code",
   "execution_count": 6,
   "metadata": {},
   "outputs": [
    {
     "name": "stdout",
     "output_type": "stream",
     "text": [
      "Hello World\n"
     ]
    }
   ],
   "source": [
    "class test: \n",
    "    def __init__(self,a=\"Hello World\"): \n",
    "        self.a=a \n",
    "    def display(self): \n",
    "        print(self.a) \n",
    "obj=test() \n",
    "obj.display()"
   ]
  },
  {
   "cell_type": "markdown",
   "metadata": {},
   "source": [
    "##### 7:Old is printed"
   ]
  },
  {
   "cell_type": "code",
   "execution_count": 7,
   "metadata": {},
   "outputs": [
    {
     "name": "stdout",
     "output_type": "stream",
     "text": [
      "Old\n"
     ]
    }
   ],
   "source": [
    "class test: \n",
    "    def __init__(self):\n",
    "        self.variable = 'Old' \n",
    "        self.Change(self.variable)\n",
    "    def Change(self, var): \n",
    "        var = 'New' \n",
    "obj=test() \n",
    "print(obj.variable)"
   ]
  },
  {
   "cell_type": "markdown",
   "metadata": {},
   "source": [
    "##### 8:sets the file's current position at the offset"
   ]
  },
  {
   "cell_type": "markdown",
   "metadata": {},
   "source": [
    "##### 9: rw"
   ]
  },
  {
   "cell_type": "markdown",
   "metadata": {},
   "source": [
    "##### 10: fp.seek(offset,0)"
   ]
  },
  {
   "cell_type": "markdown",
   "metadata": {},
   "source": [
    "##### 11: None of the mentioned"
   ]
  },
  {
   "cell_type": "code",
   "execution_count": 9,
   "metadata": {},
   "outputs": [],
   "source": [
    "i =1 \n",
    "while False: \n",
    "    if i%2==0:\n",
    "        break \n",
    "    print(i) \n",
    "    i +=2"
   ]
  },
  {
   "cell_type": "markdown",
   "metadata": {},
   "source": [
    "##### 12:Number of words in a file"
   ]
  },
  {
   "cell_type": "code",
   "execution_count": 11,
   "metadata": {},
   "outputs": [
    {
     "name": "stdout",
     "output_type": "stream",
     "text": [
      "eenter your file namex.txt\n",
      "number of words 6\n"
     ]
    }
   ],
   "source": [
    "x=input(\"eenter your file name\")\n",
    "num_words=0\n",
    "with open (x,'r') as f:\n",
    "    for line in f:\n",
    "        words=line.split()\n",
    "        #print (words)\n",
    "        num_words+=len(words)\n",
    "        #print (num_words)\n",
    "print(\"number of words\", num_words)"
   ]
  },
  {
   "cell_type": "markdown",
   "metadata": {},
   "source": [
    "##### 13:Number of lines in a file"
   ]
  },
  {
   "cell_type": "code",
   "execution_count": 12,
   "metadata": {},
   "outputs": [
    {
     "name": "stdout",
     "output_type": "stream",
     "text": [
      "eenter your file namex.txt\n",
      "number of lines 5\n"
     ]
    }
   ],
   "source": [
    "x=input(\"eenter your file name\")\n",
    "num_lines=0\n",
    "with open (x,'r') as f:\n",
    "    for line in f:\n",
    "        num_lines+=1\n",
    "        #print (num_words)\n",
    "print(\"number of lines\", num_lines)"
   ]
  },
  {
   "cell_type": "markdown",
   "metadata": {},
   "source": [
    "##### 14: Even numbers from a given list"
   ]
  },
  {
   "cell_type": "code",
   "execution_count": 14,
   "metadata": {},
   "outputs": [
    {
     "name": "stdout",
     "output_type": "stream",
     "text": [
      "2 4 6 8 10 "
     ]
    }
   ],
   "source": [
    "list=[1,2,3,4,5,6,7,8,9,10]\n",
    "num=0\n",
    "while(num<len(list)):#0<10\n",
    "    if((list[num])%2)==0:\n",
    "        print (list[num], end =\" \")\n",
    "    num+=1"
   ]
  },
  {
   "cell_type": "markdown",
   "metadata": {},
   "source": [
    "##### 15:write a program to check whether the number is within the range"
   ]
  },
  {
   "cell_type": "code",
   "execution_count": 15,
   "metadata": {},
   "outputs": [
    {
     "name": "stdout",
     "output_type": "stream",
     "text": [
      "number is inside range\n",
      "number is outside\n"
     ]
    }
   ],
   "source": [
    "def ran(n):\n",
    "    if n in range(1,10):\n",
    "        print (\"number is inside range\")\n",
    "    else:\n",
    "        print (\"number is outside\")\n",
    "ran(5)\n",
    "ran(15)"
   ]
  },
  {
   "cell_type": "markdown",
   "metadata": {},
   "source": [
    "##### 16: Reverse a given string"
   ]
  },
  {
   "cell_type": "code",
   "execution_count": 16,
   "metadata": {},
   "outputs": [
    {
     "name": "stdout",
     "output_type": "stream",
     "text": [
      "yadhtriB yppaH\n"
     ]
    }
   ],
   "source": [
    "#HAPPY - original\n",
    "#YPPAH - reversed\n",
    "def reverse(s):\n",
    "    str1=\"\"\n",
    "    for i in s:\n",
    "        str1 = i+str1\n",
    "    return str1\n",
    "s=\"Happy Birthday\"\n",
    "print (reverse(s))"
   ]
  },
  {
   "cell_type": "code",
   "execution_count": null,
   "metadata": {},
   "outputs": [],
   "source": []
  }
 ],
 "metadata": {
  "kernelspec": {
   "display_name": "Python 3",
   "language": "python",
   "name": "python3"
  },
  "language_info": {
   "codemirror_mode": {
    "name": "ipython",
    "version": 3
   },
   "file_extension": ".py",
   "mimetype": "text/x-python",
   "name": "python",
   "nbconvert_exporter": "python",
   "pygments_lexer": "ipython3",
   "version": "3.7.6"
  }
 },
 "nbformat": 4,
 "nbformat_minor": 4
}
