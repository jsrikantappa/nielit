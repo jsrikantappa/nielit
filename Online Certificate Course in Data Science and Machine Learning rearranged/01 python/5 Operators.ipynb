{
 "cells": [
  {
   "cell_type": "markdown",
   "metadata": {},
   "source": [
    "Arithmetic Operator\n"
   ]
  },
  {
   "cell_type": "code",
   "execution_count": 2,
   "metadata": {},
   "outputs": [
    {
     "name": "stdout",
     "output_type": "stream",
     "text": [
      "Line 5 - Value of c is  2\n",
      "Line 6 - Value of c is  8\n",
      "Line 7 - Value of c is  2\n"
     ]
    }
   ],
   "source": [
    "a = 2\n",
    "b = 3\n",
    "c = a % b\n",
    "print (\"Line 5 - Value of c is \", c)\n",
    "c = a**b\n",
    "print (\"Line 6 - Value of c is \", c)\n",
    "a = 10\n",
    "b = 5\n",
    "c = a//b\n",
    "print (\"Line 7 - Value of c is \", c) \n"
   ]
  },
  {
   "cell_type": "markdown",
   "metadata": {},
   "source": [
    "Assignment Operators"
   ]
  },
  {
   "cell_type": "code",
   "execution_count": 5,
   "metadata": {},
   "outputs": [
    {
     "name": "stdout",
     "output_type": "stream",
     "text": [
      "Line 1 - Value of c is  5\n",
      "Line 2 - Value of c is  8\n",
      "Line 3 - Value of c is  24\n",
      "Line 4 - Value of c is  8.0\n",
      "Line 5 - Value of c is  2.0\n",
      "Line 6 - Value of c is  8.0\n",
      "Line 7 - Value of c is  2.0\n"
     ]
    }
   ],
   "source": [
    "a = 3\n",
    "b = 2\n",
    "c = a + b\n",
    "print (\"Line 1 - Value of c is \", c)\n",
    "c += a\n",
    "print (\"Line 2 - Value of c is \", c )\n",
    "c *= a\n",
    "print (\"Line 3 - Value of c is \", c )\n",
    "c /= a\n",
    "print (\"Line 4 - Value of c is \", c )\n",
    "c %= a\n",
    "print (\"Line 5 - Value of c is \", c)\n",
    "c **= a\n",
    "print (\"Line 6 - Value of c is \", c)\n",
    "c //= a\n",
    "print (\"Line 7 - Value of c is \", c) \n"
   ]
  },
  {
   "cell_type": "markdown",
   "metadata": {},
   "source": [
    "Comparison Operators "
   ]
  },
  {
   "cell_type": "code",
   "execution_count": 11,
   "metadata": {},
   "outputs": [
    {
     "name": "stdout",
     "output_type": "stream",
     "text": [
      "False\n",
      "Equal to operator False\n",
      "True\n",
      "Equal to operator False\n",
      "True\n",
      "True\n",
      "Greater than operator True\n",
      "False\n",
      " Less than operator False\n",
      "False\n",
      " Less than equal to operator False\n",
      "True\n",
      " Greater than equal to operator True\n"
     ]
    }
   ],
   "source": [
    "# equal to  Operator \n",
    "a = 21\n",
    "b = 10\n",
    "c=(a == b)\n",
    "print(a == b)\n",
    "print('Equal to operator',c)\n",
    "\n",
    "a = 10\n",
    "b = 10\n",
    "print(a == b)\n",
    "print('Equal to operator',c)\n",
    "# Not equal to  Operator\n",
    "a = 21\n",
    "b = 10\n",
    "c=(a != b)\n",
    "print((a != b))\n",
    "# Greater than and less than operator\n",
    "a = 21\n",
    "b = 10\n",
    "c=(a > b)\n",
    "print(a > b)\n",
    "print('Greater than operator',c)\n",
    "\n",
    "# Less than operator\n",
    "a = 21\n",
    "b = 10\n",
    "c=(a < b)\n",
    "print(a < b)\n",
    "print(' Less than operator',c)\n",
    "a = 21\n",
    "b = 10\n",
    "c=(a <= b)\n",
    "print(a <= b)\n",
    "print(' Less than equal to operator',c)\n",
    "a = 21\n",
    "b = 10\n",
    "c=(a>=b)\n",
    "print(a >= b)\n",
    "print(' Greater than equal to operator',c) \n"
   ]
  },
  {
   "cell_type": "markdown",
   "metadata": {},
   "source": [
    "Bitwise Operators"
   ]
  },
  {
   "cell_type": "code",
   "execution_count": 12,
   "metadata": {},
   "outputs": [
    {
     "name": "stdout",
     "output_type": "stream",
     "text": [
      "result of AND is  12 : 0b1100\n",
      "result of OR is  61 : 0b111101\n",
      "result of EXOR is  49 : 0b110001\n",
      "result of COMPLEMENT is  -61 : -0b111101\n",
      "result of LEFT SHIFT is  240 : 0b11110000\n",
      "result of RIGHT SHIFT is  15 : 0b1111\n"
     ]
    }
   ],
   "source": [
    "a = 60 # 60 = 0011 1100\n",
    "b = 13 # 13 = 0000 1101\n",
    "c = a & b; # 12 = 0000 1100\n",
    "print (\"result of AND is \", c,':',bin(c))\n",
    "c = a | b; # 61 = 0011 1101\n",
    "print (\"result of OR is \", c,':',bin(c)) \n",
    "c = a ^ b; # 49 = 0011 0001\n",
    "print (\"result of EXOR is \", c,':',bin(c))\n",
    "c = ~a; # -61 = 1100 0011\n",
    "print (\"result of COMPLEMENT is \", c,':',bin(c))\n",
    "c = a << 2; # 240 = 1111 0000\n",
    "print (\"result of LEFT SHIFT is \", c,':',bin(c))\n",
    "c = a >> 2; # 15 = 0000 1111\n",
    "print (\"result of RIGHT SHIFT is \", c,':',bin(c)) \n"
   ]
  },
  {
   "cell_type": "markdown",
   "metadata": {},
   "source": [
    "Logical Operators"
   ]
  },
  {
   "cell_type": "code",
   "execution_count": 6,
   "metadata": {},
   "outputs": [
    {
     "name": "stdout",
     "output_type": "stream",
     "text": [
      "True\n",
      "True\n"
     ]
    }
   ],
   "source": [
    "input1=True\n",
    "input2=False\n",
    "print(input1 or input2)\n",
    "print(not input2)"
   ]
  },
  {
   "cell_type": "markdown",
   "metadata": {},
   "source": [
    "Membership Operators"
   ]
  },
  {
   "cell_type": "code",
   "execution_count": 7,
   "metadata": {},
   "outputs": [
    {
     "name": "stdout",
     "output_type": "stream",
     "text": [
      "True\n",
      "False\n"
     ]
    }
   ],
   "source": [
    "x=['mango','jackfruit','orange',250]\n",
    "print('orange' in x)\n",
    "print(250 not in x)"
   ]
  },
  {
   "cell_type": "code",
   "execution_count": 8,
   "metadata": {},
   "outputs": [
    {
     "name": "stdout",
     "output_type": "stream",
     "text": [
      "True\n",
      "False\n"
     ]
    }
   ],
   "source": [
    "dict={1:100,'new':[1,2,'hi']}\n",
    "print('new'in dict)\n",
    "print(100 in dict)"
   ]
  },
  {
   "cell_type": "markdown",
   "metadata": {},
   "source": [
    "Identity Operators"
   ]
  },
  {
   "cell_type": "code",
   "execution_count": 10,
   "metadata": {},
   "outputs": [
    {
     "name": "stdout",
     "output_type": "stream",
     "text": [
      "True\n",
      "140730097970672\n",
      "140730097970672\n"
     ]
    }
   ],
   "source": [
    "x1=100\n",
    "x2=100\n",
    "print(x1 is x2)\n",
    "print(id(x1))\n",
    "print(id(x2))"
   ]
  },
  {
   "cell_type": "code",
   "execution_count": 9,
   "metadata": {},
   "outputs": [
    {
     "name": "stdout",
     "output_type": "stream",
     "text": [
      "False\n",
      "63435353544\n",
      "63435366792\n"
     ]
    }
   ],
   "source": [
    "a1=['sachin','dravid',1000.8989]\n",
    "a2=['sachin','dravid',1000.8989]\n",
    "print(a1 is a2)\n",
    "print(id(a1))\n",
    "print(id(a2))"
   ]
  }
 ],
 "metadata": {
  "kernelspec": {
   "display_name": "Python 3",
   "language": "python",
   "name": "python3"
  },
  "language_info": {
   "codemirror_mode": {
    "name": "ipython",
    "version": 3
   },
   "file_extension": ".py",
   "mimetype": "text/x-python",
   "name": "python",
   "nbconvert_exporter": "python",
   "pygments_lexer": "ipython3",
   "version": "3.7.6"
  }
 },
 "nbformat": 4,
 "nbformat_minor": 4
}
