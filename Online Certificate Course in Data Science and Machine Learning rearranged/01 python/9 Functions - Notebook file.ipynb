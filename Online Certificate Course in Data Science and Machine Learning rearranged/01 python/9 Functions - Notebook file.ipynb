{
 "cells": [
  {
   "cell_type": "markdown",
   "metadata": {},
   "source": [
    "# FUNCTIONS"
   ]
  },
  {
   "cell_type": "markdown",
   "metadata": {},
   "source": [
    "# Function call and defn"
   ]
  },
  {
   "cell_type": "code",
   "execution_count": 1,
   "metadata": {},
   "outputs": [
    {
     "name": "stdout",
     "output_type": "stream",
     "text": [
      "5\n"
     ]
    }
   ],
   "source": [
    "def sum(a,b):\n",
    "    c=a+b\n",
    "    print (c)\n",
    "sum(3,2)\n",
    "    "
   ]
  },
  {
   "cell_type": "markdown",
   "metadata": {},
   "source": [
    "# Call by reference"
   ]
  },
  {
   "cell_type": "code",
   "execution_count": 2,
   "metadata": {
    "scrolled": true
   },
   "outputs": [
    {
     "name": "stdout",
     "output_type": "stream",
     "text": [
      "2644917875400\n",
      "[60, 20, 30, 40, 50]\n",
      "2644917875400\n",
      "60\n"
     ]
    }
   ],
   "source": [
    "def myfun(x):\n",
    "    x[0]=60\n",
    "    print (id(x))\n",
    "    return x[0]\n",
    "lst=[10,20,30,40,50] #1000\n",
    "s=myfun(lst)\n",
    "print(lst)\n",
    "print (id(lst))\n",
    "print (s)"
   ]
  },
  {
   "cell_type": "markdown",
   "metadata": {},
   "source": [
    "# Call by value"
   ]
  },
  {
   "cell_type": "code",
   "execution_count": 3,
   "metadata": {},
   "outputs": [
    {
     "name": "stdout",
     "output_type": "stream",
     "text": [
      "hihello\n",
      "2644918046256\n",
      "hello\n",
      "2644918045232\n"
     ]
    }
   ],
   "source": [
    "def myfun(x):\n",
    "    x='hi'+a\n",
    "    print (x)\n",
    "    print (id(x))\n",
    "a=\"hello\"\n",
    "myfun(a)\n",
    "print (a)\n",
    "print (id(a))"
   ]
  },
  {
   "cell_type": "markdown",
   "metadata": {},
   "source": [
    "### Required/positional arguments"
   ]
  },
  {
   "cell_type": "code",
   "execution_count": 4,
   "metadata": {},
   "outputs": [
    {
     "name": "stdout",
     "output_type": "stream",
     "text": [
      "10\n",
      "30\n",
      "60\n"
     ]
    }
   ],
   "source": [
    "def add(x):\n",
    "    sum=0\n",
    "    for i in x:\n",
    "        sum=sum+i\n",
    "        print (sum)\n",
    "lst=[10,20,30]\n",
    "add(lst)"
   ]
  },
  {
   "cell_type": "markdown",
   "metadata": {},
   "source": [
    "### Keyword arguments"
   ]
  },
  {
   "cell_type": "code",
   "execution_count": 5,
   "metadata": {},
   "outputs": [
    {
     "name": "stdout",
     "output_type": "stream",
     "text": [
      "Name: xyz\n",
      "age 50\n"
     ]
    }
   ],
   "source": [
    "def printinfo(name,age):\n",
    "    print(\"Name:\", name)\n",
    "    print (\"age\", age)\n",
    "    return\n",
    "printinfo(age=50, name=\"xyz\")"
   ]
  },
  {
   "cell_type": "markdown",
   "metadata": {},
   "source": [
    "### Default arguments"
   ]
  },
  {
   "cell_type": "code",
   "execution_count": 6,
   "metadata": {},
   "outputs": [
    {
     "name": "stdout",
     "output_type": "stream",
     "text": [
      "Name: xyz\n",
      "age 50\n",
      "Name: xyxy\n",
      "age 35\n"
     ]
    }
   ],
   "source": [
    "def printinfo(name,age=35):\n",
    "    print(\"Name:\", name)\n",
    "    print (\"age\", age)\n",
    "    return\n",
    "printinfo(age=50, name=\"xyz\")\n",
    "printinfo(name=\"xyxy\")"
   ]
  },
  {
   "cell_type": "markdown",
   "metadata": {},
   "source": [
    "### Variable length non keyword arguments "
   ]
  },
  {
   "cell_type": "code",
   "execution_count": 7,
   "metadata": {},
   "outputs": [
    {
     "name": "stdout",
     "output_type": "stream",
     "text": [
      "1\n",
      "2\n",
      "3\n",
      "4\n",
      "5\n",
      "6\n",
      "7\n",
      "10\n",
      "2\n",
      "3\n",
      "4\n",
      "5\n"
     ]
    }
   ],
   "source": [
    "def fun(*x):\n",
    "    for i in x:\n",
    "        print (i)\n",
    "fun(1,2,3,4,5,6,7,10,2,3,4,5)"
   ]
  },
  {
   "cell_type": "markdown",
   "metadata": {},
   "source": [
    "### Variable length keyword arguments "
   ]
  },
  {
   "cell_type": "code",
   "execution_count": 8,
   "metadata": {},
   "outputs": [
    {
     "name": "stdout",
     "output_type": "stream",
     "text": [
      "firstname is ram\n",
      "age is 50\n"
     ]
    }
   ],
   "source": [
    "def fun(**x):\n",
    "    for key,value in x.items():\n",
    "         print ('{} is {}'.format (key,value))\n",
    "\n",
    "fun(firstname=\"ram\", age = \"50\")"
   ]
  }
 ],
 "metadata": {
  "kernelspec": {
   "display_name": "Python 3",
   "language": "python",
   "name": "python3"
  },
  "language_info": {
   "codemirror_mode": {
    "name": "ipython",
    "version": 3
   },
   "file_extension": ".py",
   "mimetype": "text/x-python",
   "name": "python",
   "nbconvert_exporter": "python",
   "pygments_lexer": "ipython3",
   "version": "3.7.6"
  }
 },
 "nbformat": 4,
 "nbformat_minor": 4
}
