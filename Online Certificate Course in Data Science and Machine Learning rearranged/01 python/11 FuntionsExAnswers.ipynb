{
 "cells": [
  {
   "cell_type": "raw",
   "metadata": {},
   "source": [
    "Question 1: Create a function that can accept two arguments, name\n",
    "and age and print its value\n",
    "Question 2: Create a function where the tuple is passed as\n",
    "arguments and append it with “Happy Learning”\n",
    "Question 3: Write a function calculation() such that it can accept two\n",
    "variables and calculate the addition and subtraction of it. And also it\n",
    "must return both addition and subtraction in a single return call\n",
    "Question 4: Write a function to calculate the sum of numbers from 0\n",
    "to 10\n",
    "Question 5: Assign a different name to function and call it through\n",
    "the new name, for example function name is one, but calling the\n",
    "function through another name two\n",
    "Question 6: Write a function func1() such that it can accept a\n",
    "variable length of argument and print all arguments value"
   ]
  },
  {
   "cell_type": "code",
   "execution_count": null,
   "metadata": {
    "collapsed": true
   },
   "outputs": [],
   "source": [
    "'''Question 1: Create a function that can accept two arguments, name\n",
    "and age and print its value'''\n",
    "\n",
    "def twoArug():\n",
    "    name=input()\n",
    "    age=input()\n",
    "    return (print(name,age))\n",
    "twoArug()"
   ]
  },
  {
   "cell_type": "code",
   "execution_count": 23,
   "metadata": {},
   "outputs": [
    {
     "data": {
      "text/plain": [
       "(12, '13', 12, 'Happy Learning')"
      ]
     },
     "execution_count": 23,
     "metadata": {},
     "output_type": "execute_result"
    }
   ],
   "source": [
    "'''Question 2: Create a function where the tuple is passed as\n",
    "arguments and append it with “Happy Learning”\n",
    "'''\n",
    "\n",
    "def tupleappend(tup):\n",
    "    str1 = ['Happy Learning']\n",
    "    return (tup+tuple(str1))\n",
    "tupleappend((12,'13',12))"
   ]
  },
  {
   "cell_type": "code",
   "execution_count": 26,
   "metadata": {},
   "outputs": [
    {
     "data": {
      "text/plain": [
       "(3, -1)"
      ]
     },
     "execution_count": 26,
     "metadata": {},
     "output_type": "execute_result"
    }
   ],
   "source": [
    "'''Question 3: Write a function calculation() such that it can accept two\n",
    "variables and calculate the addition and subtraction of it. And also it\n",
    "must return both addition and subtraction in a single return call'''\n",
    "\n",
    "def calculation(a,b):\n",
    "    add=a+b\n",
    "    sub=a-b\n",
    "    return(add,sub)\n",
    "\n",
    "calculation(1,2)\n",
    "    "
   ]
  },
  {
   "cell_type": "code",
   "execution_count": 40,
   "metadata": {},
   "outputs": [
    {
     "data": {
      "text/plain": [
       "55"
      ]
     },
     "execution_count": 40,
     "metadata": {},
     "output_type": "execute_result"
    }
   ],
   "source": [
    "'''Question 4: Write a function to calculate the sum of numbers from 0\n",
    "to 10'''\n",
    "\n",
    "def Oneto10sum():\n",
    "    a=0\n",
    "    for i in range(11):\n",
    "        a+=i\n",
    "    return a\n",
    "\n",
    "Oneto10sum()\n"
   ]
  },
  {
   "cell_type": "code",
   "execution_count": 46,
   "metadata": {},
   "outputs": [
    {
     "data": {
      "text/plain": [
       "55"
      ]
     },
     "execution_count": 46,
     "metadata": {},
     "output_type": "execute_result"
    }
   ],
   "source": [
    "'''Question 5: Assign a different name to function and call it through\n",
    "the new name, for example function name is one, but calling the\n",
    "function through another name two'''\n",
    "\n",
    "def Oneto10sum():\n",
    "    a=0\n",
    "    for i in range(11):\n",
    "        a+=i\n",
    "    return a\n",
    "a=Oneto10sum\n",
    "a()\n",
    "\n",
    "\n"
   ]
  },
  {
   "cell_type": "code",
   "execution_count": 54,
   "metadata": {},
   "outputs": [
    {
     "name": "stdout",
     "output_type": "stream",
     "text": [
      "a=1,b=1\n",
      "fg\n"
     ]
    }
   ],
   "source": [
    "'''Question 6: Write a function func1() such that it can accept a\n",
    "variable length of argument and print all arguments value'''\n",
    "\n",
    "def func1(*a):\n",
    "    for i in a:\n",
    "        print(i)\n",
    "\n",
    "func1('a=1,b=1','fg')\n"
   ]
  }
 ],
 "metadata": {
  "kernelspec": {
   "display_name": "Python 3",
   "language": "python",
   "name": "python3"
  },
  "language_info": {
   "codemirror_mode": {
    "name": "ipython",
    "version": 3
   },
   "file_extension": ".py",
   "mimetype": "text/x-python",
   "name": "python",
   "nbconvert_exporter": "python",
   "pygments_lexer": "ipython3",
   "version": "3.6.1"
  }
 },
 "nbformat": 4,
 "nbformat_minor": 4
}
