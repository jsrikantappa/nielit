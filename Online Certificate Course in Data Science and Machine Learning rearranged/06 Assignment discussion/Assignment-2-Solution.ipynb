{
 "cells": [
  {
   "cell_type": "markdown",
   "metadata": {},
   "source": [
    "##### Import pandas and read the population_india_census2011.csv file i nto a dataframe called pop"
   ]
  },
  {
   "cell_type": "code",
   "execution_count": 1,
   "metadata": {},
   "outputs": [],
   "source": [
    "import pandas as pd\n",
    "import numpy as np"
   ]
  },
  {
   "cell_type": "code",
   "execution_count": 2,
   "metadata": {},
   "outputs": [],
   "source": [
    "pop = pd.read_csv('population_india_census2011.csv',encoding='unicode_escape')"
   ]
  },
  {
   "cell_type": "code",
   "execution_count": null,
   "metadata": {},
   "outputs": [],
   "source": []
  },
  {
   "cell_type": "code",
   "execution_count": null,
   "metadata": {},
   "outputs": [],
   "source": []
  },
  {
   "cell_type": "markdown",
   "metadata": {},
   "source": [
    "##### Show the head of the dataframe: a. Default, b. First 10 states. "
   ]
  },
  {
   "cell_type": "code",
   "execution_count": 3,
   "metadata": {},
   "outputs": [
    {
     "data": {
      "text/html": [
       "<div>\n",
       "<style scoped>\n",
       "    .dataframe tbody tr th:only-of-type {\n",
       "        vertical-align: middle;\n",
       "    }\n",
       "\n",
       "    .dataframe tbody tr th {\n",
       "        vertical-align: top;\n",
       "    }\n",
       "\n",
       "    .dataframe thead th {\n",
       "        text-align: right;\n",
       "    }\n",
       "</style>\n",
       "<table border=\"1\" class=\"dataframe\">\n",
       "  <thead>\n",
       "    <tr style=\"text-align: right;\">\n",
       "      <th></th>\n",
       "      <th>Sno</th>\n",
       "      <th>Region</th>\n",
       "      <th>State / Union Territory</th>\n",
       "      <th>Population</th>\n",
       "      <th>Rural population</th>\n",
       "      <th>Urban population</th>\n",
       "      <th>Area</th>\n",
       "      <th>Gender Ratio</th>\n",
       "    </tr>\n",
       "  </thead>\n",
       "  <tbody>\n",
       "    <tr>\n",
       "      <th>0</th>\n",
       "      <td>1</td>\n",
       "      <td>North</td>\n",
       "      <td>Uttar Pradesh</td>\n",
       "      <td>199812341</td>\n",
       "      <td>155317278</td>\n",
       "      <td>44495063</td>\n",
       "      <td>240,928 km2</td>\n",
       "      <td>912</td>\n",
       "    </tr>\n",
       "    <tr>\n",
       "      <th>1</th>\n",
       "      <td>2</td>\n",
       "      <td>West</td>\n",
       "      <td>Maharashtra</td>\n",
       "      <td>112374333</td>\n",
       "      <td>61556074</td>\n",
       "      <td>50818259</td>\n",
       "      <td>307,713 km2</td>\n",
       "      <td>929</td>\n",
       "    </tr>\n",
       "    <tr>\n",
       "      <th>2</th>\n",
       "      <td>3</td>\n",
       "      <td>North</td>\n",
       "      <td>Bihar</td>\n",
       "      <td>104099452</td>\n",
       "      <td>92341436</td>\n",
       "      <td>11758016</td>\n",
       "      <td>94,163 km2</td>\n",
       "      <td>918</td>\n",
       "    </tr>\n",
       "    <tr>\n",
       "      <th>3</th>\n",
       "      <td>4</td>\n",
       "      <td>East</td>\n",
       "      <td>West Bengal</td>\n",
       "      <td>91276115</td>\n",
       "      <td>62183113</td>\n",
       "      <td>29093002</td>\n",
       "      <td>88,752 km2</td>\n",
       "      <td>953</td>\n",
       "    </tr>\n",
       "    <tr>\n",
       "      <th>4</th>\n",
       "      <td>5</td>\n",
       "      <td>Cntral</td>\n",
       "      <td>Madhya Pradesh</td>\n",
       "      <td>72626809</td>\n",
       "      <td>52557404</td>\n",
       "      <td>20069405</td>\n",
       "      <td>308,245 km2</td>\n",
       "      <td>931</td>\n",
       "    </tr>\n",
       "  </tbody>\n",
       "</table>\n",
       "</div>"
      ],
      "text/plain": [
       "   Sno  Region State / Union Territory  Population  Rural population  \\\n",
       "0    1   North           Uttar Pradesh   199812341         155317278   \n",
       "1    2    West             Maharashtra   112374333          61556074   \n",
       "2    3   North                   Bihar   104099452          92341436   \n",
       "3    4    East             West Bengal    91276115          62183113   \n",
       "4    5  Cntral          Madhya Pradesh    72626809          52557404   \n",
       "\n",
       "   Urban population          Area  Gender Ratio  \n",
       "0          44495063  240,928 km2            912  \n",
       "1          50818259  307,713 km2            929  \n",
       "2          11758016   94,163 km2            918  \n",
       "3          29093002   88,752 km2            953  \n",
       "4          20069405   308,245 km2           931  "
      ]
     },
     "execution_count": 3,
     "metadata": {},
     "output_type": "execute_result"
    }
   ],
   "source": [
    "pop.head()"
   ]
  },
  {
   "cell_type": "code",
   "execution_count": 4,
   "metadata": {},
   "outputs": [
    {
     "data": {
      "text/html": [
       "<div>\n",
       "<style scoped>\n",
       "    .dataframe tbody tr th:only-of-type {\n",
       "        vertical-align: middle;\n",
       "    }\n",
       "\n",
       "    .dataframe tbody tr th {\n",
       "        vertical-align: top;\n",
       "    }\n",
       "\n",
       "    .dataframe thead th {\n",
       "        text-align: right;\n",
       "    }\n",
       "</style>\n",
       "<table border=\"1\" class=\"dataframe\">\n",
       "  <thead>\n",
       "    <tr style=\"text-align: right;\">\n",
       "      <th></th>\n",
       "      <th>Sno</th>\n",
       "      <th>Region</th>\n",
       "      <th>State / Union Territory</th>\n",
       "      <th>Population</th>\n",
       "      <th>Rural population</th>\n",
       "      <th>Urban population</th>\n",
       "      <th>Area</th>\n",
       "      <th>Gender Ratio</th>\n",
       "    </tr>\n",
       "  </thead>\n",
       "  <tbody>\n",
       "    <tr>\n",
       "      <th>0</th>\n",
       "      <td>1</td>\n",
       "      <td>North</td>\n",
       "      <td>Uttar Pradesh</td>\n",
       "      <td>199812341</td>\n",
       "      <td>155317278</td>\n",
       "      <td>44495063</td>\n",
       "      <td>240,928 km2</td>\n",
       "      <td>912</td>\n",
       "    </tr>\n",
       "    <tr>\n",
       "      <th>1</th>\n",
       "      <td>2</td>\n",
       "      <td>West</td>\n",
       "      <td>Maharashtra</td>\n",
       "      <td>112374333</td>\n",
       "      <td>61556074</td>\n",
       "      <td>50818259</td>\n",
       "      <td>307,713 km2</td>\n",
       "      <td>929</td>\n",
       "    </tr>\n",
       "    <tr>\n",
       "      <th>2</th>\n",
       "      <td>3</td>\n",
       "      <td>North</td>\n",
       "      <td>Bihar</td>\n",
       "      <td>104099452</td>\n",
       "      <td>92341436</td>\n",
       "      <td>11758016</td>\n",
       "      <td>94,163 km2</td>\n",
       "      <td>918</td>\n",
       "    </tr>\n",
       "    <tr>\n",
       "      <th>3</th>\n",
       "      <td>4</td>\n",
       "      <td>East</td>\n",
       "      <td>West Bengal</td>\n",
       "      <td>91276115</td>\n",
       "      <td>62183113</td>\n",
       "      <td>29093002</td>\n",
       "      <td>88,752 km2</td>\n",
       "      <td>953</td>\n",
       "    </tr>\n",
       "    <tr>\n",
       "      <th>4</th>\n",
       "      <td>5</td>\n",
       "      <td>Cntral</td>\n",
       "      <td>Madhya Pradesh</td>\n",
       "      <td>72626809</td>\n",
       "      <td>52557404</td>\n",
       "      <td>20069405</td>\n",
       "      <td>308,245 km2</td>\n",
       "      <td>931</td>\n",
       "    </tr>\n",
       "    <tr>\n",
       "      <th>5</th>\n",
       "      <td>6</td>\n",
       "      <td>South</td>\n",
       "      <td>Tamil Nadu</td>\n",
       "      <td>72147030</td>\n",
       "      <td>37229590</td>\n",
       "      <td>34917440</td>\n",
       "      <td>130,058 km2</td>\n",
       "      <td>996</td>\n",
       "    </tr>\n",
       "    <tr>\n",
       "      <th>6</th>\n",
       "      <td>7</td>\n",
       "      <td>North</td>\n",
       "      <td>Rajasthan</td>\n",
       "      <td>68548437</td>\n",
       "      <td>51500352</td>\n",
       "      <td>17048085</td>\n",
       "      <td>342,239 km2</td>\n",
       "      <td>928</td>\n",
       "    </tr>\n",
       "    <tr>\n",
       "      <th>7</th>\n",
       "      <td>8</td>\n",
       "      <td>South</td>\n",
       "      <td>Karnataka</td>\n",
       "      <td>61095297</td>\n",
       "      <td>37469335</td>\n",
       "      <td>23625962</td>\n",
       "      <td>191,791 km2</td>\n",
       "      <td>973</td>\n",
       "    </tr>\n",
       "    <tr>\n",
       "      <th>8</th>\n",
       "      <td>9</td>\n",
       "      <td>West</td>\n",
       "      <td>Gujarat</td>\n",
       "      <td>60439692</td>\n",
       "      <td>34694609</td>\n",
       "      <td>25745083</td>\n",
       "      <td>196,024 km2</td>\n",
       "      <td>919</td>\n",
       "    </tr>\n",
       "    <tr>\n",
       "      <th>9</th>\n",
       "      <td>10</td>\n",
       "      <td>South</td>\n",
       "      <td>Andhra Pradesh</td>\n",
       "      <td>49577103</td>\n",
       "      <td>34966693</td>\n",
       "      <td>14610410</td>\n",
       "      <td>162,968 km2</td>\n",
       "      <td>993</td>\n",
       "    </tr>\n",
       "  </tbody>\n",
       "</table>\n",
       "</div>"
      ],
      "text/plain": [
       "   Sno  Region State / Union Territory  Population  Rural population  \\\n",
       "0    1   North           Uttar Pradesh   199812341         155317278   \n",
       "1    2    West             Maharashtra   112374333          61556074   \n",
       "2    3   North                   Bihar   104099452          92341436   \n",
       "3    4    East             West Bengal    91276115          62183113   \n",
       "4    5  Cntral          Madhya Pradesh    72626809          52557404   \n",
       "5    6   South              Tamil Nadu    72147030          37229590   \n",
       "6    7   North               Rajasthan    68548437          51500352   \n",
       "7    8   South               Karnataka    61095297          37469335   \n",
       "8    9    West                 Gujarat    60439692          34694609   \n",
       "9   10   South          Andhra Pradesh    49577103          34966693   \n",
       "\n",
       "   Urban population          Area  Gender Ratio  \n",
       "0          44495063  240,928 km2            912  \n",
       "1          50818259  307,713 km2            929  \n",
       "2          11758016   94,163 km2            918  \n",
       "3          29093002   88,752 km2            953  \n",
       "4          20069405   308,245 km2           931  \n",
       "5          34917440   130,058 km2           996  \n",
       "6          17048085  342,239 km2            928  \n",
       "7          23625962  191,791 km2            973  \n",
       "8          25745083   196,024 km2           919  \n",
       "9          14610410   162,968 km2           993  "
      ]
     },
     "execution_count": 4,
     "metadata": {},
     "output_type": "execute_result"
    }
   ],
   "source": [
    "pop.head(10)"
   ]
  },
  {
   "cell_type": "markdown",
   "metadata": {},
   "source": [
    "##### What are the column names"
   ]
  },
  {
   "cell_type": "code",
   "execution_count": 5,
   "metadata": {},
   "outputs": [
    {
     "data": {
      "text/plain": [
       "Index(['Sno', 'Region', 'State / Union Territory', 'Population',\n",
       "       'Rural population', 'Urban population', 'Area', 'Gender Ratio'],\n",
       "      dtype='object')"
      ]
     },
     "execution_count": 5,
     "metadata": {},
     "output_type": "execute_result"
    }
   ],
   "source": [
    "pop.columns"
   ]
  },
  {
   "cell_type": "markdown",
   "metadata": {},
   "source": [
    "##### How many ‘State/Union Territory’ are represented in this data set?"
   ]
  },
  {
   "cell_type": "code",
   "execution_count": null,
   "metadata": {},
   "outputs": [],
   "source": []
  },
  {
   "cell_type": "markdown",
   "metadata": {},
   "source": [
    "##### Get a list or array of all the ‘State/Union Territory’ in the data set"
   ]
  },
  {
   "cell_type": "code",
   "execution_count": 6,
   "metadata": {},
   "outputs": [
    {
     "data": {
      "text/plain": [
       "36"
      ]
     },
     "execution_count": 6,
     "metadata": {},
     "output_type": "execute_result"
    }
   ],
   "source": [
    "pop['State / Union Territory'].count()"
   ]
  },
  {
   "cell_type": "markdown",
   "metadata": {},
   "source": [
    "##### Which region has maximum states/UT"
   ]
  },
  {
   "cell_type": "code",
   "execution_count": 12,
   "metadata": {},
   "outputs": [
    {
     "data": {
      "text/html": [
       "<div>\n",
       "<style scoped>\n",
       "    .dataframe tbody tr th:only-of-type {\n",
       "        vertical-align: middle;\n",
       "    }\n",
       "\n",
       "    .dataframe tbody tr th {\n",
       "        vertical-align: top;\n",
       "    }\n",
       "\n",
       "    .dataframe thead th {\n",
       "        text-align: right;\n",
       "    }\n",
       "</style>\n",
       "<table border=\"1\" class=\"dataframe\">\n",
       "  <thead>\n",
       "    <tr style=\"text-align: right;\">\n",
       "      <th></th>\n",
       "      <th>Sno</th>\n",
       "      <th>State / Union Territory</th>\n",
       "      <th>Population</th>\n",
       "      <th>Rural population</th>\n",
       "      <th>Urban population</th>\n",
       "      <th>Area</th>\n",
       "      <th>Gender Ratio</th>\n",
       "    </tr>\n",
       "    <tr>\n",
       "      <th>Region</th>\n",
       "      <th></th>\n",
       "      <th></th>\n",
       "      <th></th>\n",
       "      <th></th>\n",
       "      <th></th>\n",
       "      <th></th>\n",
       "      <th></th>\n",
       "    </tr>\n",
       "  </thead>\n",
       "  <tbody>\n",
       "    <tr>\n",
       "      <th>North</th>\n",
       "      <td>11</td>\n",
       "      <td>11</td>\n",
       "      <td>11</td>\n",
       "      <td>11</td>\n",
       "      <td>11</td>\n",
       "      <td>11</td>\n",
       "      <td>11</td>\n",
       "    </tr>\n",
       "  </tbody>\n",
       "</table>\n",
       "</div>"
      ],
      "text/plain": [
       "        Sno  State / Union Territory  Population  Rural population  \\\n",
       "Region                                                               \n",
       "North    11                       11          11                11   \n",
       "\n",
       "        Urban population  Area  Gender Ratio  \n",
       "Region                                        \n",
       "North                 11    11            11  "
      ]
     },
     "execution_count": 12,
     "metadata": {},
     "output_type": "execute_result"
    }
   ],
   "source": [
    "pop.groupby('Region').count().sort_values('State / Union Territory',ascending=False).head(1)"
   ]
  },
  {
   "cell_type": "code",
   "execution_count": 13,
   "metadata": {},
   "outputs": [
    {
     "data": {
      "text/plain": [
       "Region\n",
       "North    11\n",
       "Name: State / Union Territory, dtype: int64"
      ]
     },
     "execution_count": 13,
     "metadata": {},
     "output_type": "execute_result"
    }
   ],
   "source": [
    "pop.groupby('Region').count()['State / Union Territory'].sort_values(ascending=False).head(1)"
   ]
  },
  {
   "cell_type": "code",
   "execution_count": null,
   "metadata": {},
   "outputs": [],
   "source": []
  },
  {
   "cell_type": "markdown",
   "metadata": {},
   "source": [
    "##### Which state/UT is having maximum population?"
   ]
  },
  {
   "cell_type": "code",
   "execution_count": 14,
   "metadata": {},
   "outputs": [
    {
     "data": {
      "text/html": [
       "<div>\n",
       "<style scoped>\n",
       "    .dataframe tbody tr th:only-of-type {\n",
       "        vertical-align: middle;\n",
       "    }\n",
       "\n",
       "    .dataframe tbody tr th {\n",
       "        vertical-align: top;\n",
       "    }\n",
       "\n",
       "    .dataframe thead th {\n",
       "        text-align: right;\n",
       "    }\n",
       "</style>\n",
       "<table border=\"1\" class=\"dataframe\">\n",
       "  <thead>\n",
       "    <tr style=\"text-align: right;\">\n",
       "      <th></th>\n",
       "      <th>Sno</th>\n",
       "      <th>Region</th>\n",
       "      <th>State / Union Territory</th>\n",
       "      <th>Population</th>\n",
       "      <th>Rural population</th>\n",
       "      <th>Urban population</th>\n",
       "      <th>Area</th>\n",
       "      <th>Gender Ratio</th>\n",
       "    </tr>\n",
       "  </thead>\n",
       "  <tbody>\n",
       "    <tr>\n",
       "      <th>0</th>\n",
       "      <td>1</td>\n",
       "      <td>North</td>\n",
       "      <td>Uttar Pradesh</td>\n",
       "      <td>199812341</td>\n",
       "      <td>155317278</td>\n",
       "      <td>44495063</td>\n",
       "      <td>240,928 km2</td>\n",
       "      <td>912</td>\n",
       "    </tr>\n",
       "  </tbody>\n",
       "</table>\n",
       "</div>"
      ],
      "text/plain": [
       "   Sno Region State / Union Territory  Population  Rural population  \\\n",
       "0    1  North           Uttar Pradesh   199812341         155317278   \n",
       "\n",
       "   Urban population          Area  Gender Ratio  \n",
       "0          44495063  240,928 km2            912  "
      ]
     },
     "execution_count": 14,
     "metadata": {},
     "output_type": "execute_result"
    }
   ],
   "source": [
    "pop.sort_values('Population',ascending=False).head(1)"
   ]
  },
  {
   "cell_type": "markdown",
   "metadata": {},
   "source": [
    "##### What is most populated region"
   ]
  },
  {
   "cell_type": "code",
   "execution_count": 16,
   "metadata": {},
   "outputs": [
    {
     "data": {
      "text/html": [
       "<div>\n",
       "<style scoped>\n",
       "    .dataframe tbody tr th:only-of-type {\n",
       "        vertical-align: middle;\n",
       "    }\n",
       "\n",
       "    .dataframe tbody tr th {\n",
       "        vertical-align: top;\n",
       "    }\n",
       "\n",
       "    .dataframe thead th {\n",
       "        text-align: right;\n",
       "    }\n",
       "</style>\n",
       "<table border=\"1\" class=\"dataframe\">\n",
       "  <thead>\n",
       "    <tr style=\"text-align: right;\">\n",
       "      <th></th>\n",
       "      <th>Sno</th>\n",
       "      <th>Population</th>\n",
       "      <th>Rural population</th>\n",
       "      <th>Urban population</th>\n",
       "      <th>Gender Ratio</th>\n",
       "    </tr>\n",
       "    <tr>\n",
       "      <th>Region</th>\n",
       "      <th></th>\n",
       "      <th></th>\n",
       "      <th></th>\n",
       "      <th></th>\n",
       "      <th></th>\n",
       "    </tr>\n",
       "  </thead>\n",
       "  <tbody>\n",
       "    <tr>\n",
       "      <th>North</th>\n",
       "      <td>210</td>\n",
       "      <td>472890347</td>\n",
       "      <td>355781714</td>\n",
       "      <td>117108633</td>\n",
       "      <td>9896</td>\n",
       "    </tr>\n",
       "  </tbody>\n",
       "</table>\n",
       "</div>"
      ],
      "text/plain": [
       "        Sno  Population  Rural population  Urban population  Gender Ratio\n",
       "Region                                                                   \n",
       "North   210   472890347         355781714         117108633          9896"
      ]
     },
     "execution_count": 16,
     "metadata": {},
     "output_type": "execute_result"
    }
   ],
   "source": [
    "pop.groupby('Region').sum().sort_values('Population',ascending=False).head(1)"
   ]
  },
  {
   "cell_type": "code",
   "execution_count": null,
   "metadata": {},
   "outputs": [],
   "source": []
  },
  {
   "cell_type": "markdown",
   "metadata": {},
   "source": [
    "##### How many states/UT have gender ratio greater than 900"
   ]
  },
  {
   "cell_type": "code",
   "execution_count": 18,
   "metadata": {},
   "outputs": [
    {
     "data": {
      "text/plain": [
       "27"
      ]
     },
     "execution_count": 18,
     "metadata": {},
     "output_type": "execute_result"
    }
   ],
   "source": [
    "sum(pop['Gender Ratio']>900)"
   ]
  },
  {
   "cell_type": "markdown",
   "metadata": {},
   "source": []
  },
  {
   "cell_type": "markdown",
   "metadata": {},
   "source": [
    "##### How many states have the word \"Pradesh\" in their name"
   ]
  },
  {
   "cell_type": "code",
   "execution_count": null,
   "metadata": {},
   "outputs": [],
   "source": [
    "lambda name: 'Pradesh' in name"
   ]
  },
  {
   "cell_type": "code",
   "execution_count": 20,
   "metadata": {},
   "outputs": [
    {
     "data": {
      "text/plain": [
       "5"
      ]
     },
     "execution_count": 20,
     "metadata": {},
     "output_type": "execute_result"
    }
   ],
   "source": [
    "sum(pop['State / Union Territory'].apply(lambda name: 'Pradesh' in name))"
   ]
  },
  {
   "cell_type": "code",
   "execution_count": null,
   "metadata": {},
   "outputs": [],
   "source": []
  },
  {
   "cell_type": "markdown",
   "metadata": {},
   "source": [
    "##### Add a column that calculates the density of population in each state/UT "
   ]
  },
  {
   "cell_type": "code",
   "execution_count": 21,
   "metadata": {},
   "outputs": [
    {
     "data": {
      "text/html": [
       "<div>\n",
       "<style scoped>\n",
       "    .dataframe tbody tr th:only-of-type {\n",
       "        vertical-align: middle;\n",
       "    }\n",
       "\n",
       "    .dataframe tbody tr th {\n",
       "        vertical-align: top;\n",
       "    }\n",
       "\n",
       "    .dataframe thead th {\n",
       "        text-align: right;\n",
       "    }\n",
       "</style>\n",
       "<table border=\"1\" class=\"dataframe\">\n",
       "  <thead>\n",
       "    <tr style=\"text-align: right;\">\n",
       "      <th></th>\n",
       "      <th>Sno</th>\n",
       "      <th>Region</th>\n",
       "      <th>State / Union Territory</th>\n",
       "      <th>Population</th>\n",
       "      <th>Rural population</th>\n",
       "      <th>Urban population</th>\n",
       "      <th>Area</th>\n",
       "      <th>Gender Ratio</th>\n",
       "    </tr>\n",
       "  </thead>\n",
       "  <tbody>\n",
       "    <tr>\n",
       "      <th>0</th>\n",
       "      <td>1</td>\n",
       "      <td>North</td>\n",
       "      <td>Uttar Pradesh</td>\n",
       "      <td>199812341</td>\n",
       "      <td>155317278</td>\n",
       "      <td>44495063</td>\n",
       "      <td>240,928 km2</td>\n",
       "      <td>912</td>\n",
       "    </tr>\n",
       "    <tr>\n",
       "      <th>1</th>\n",
       "      <td>2</td>\n",
       "      <td>West</td>\n",
       "      <td>Maharashtra</td>\n",
       "      <td>112374333</td>\n",
       "      <td>61556074</td>\n",
       "      <td>50818259</td>\n",
       "      <td>307,713 km2</td>\n",
       "      <td>929</td>\n",
       "    </tr>\n",
       "    <tr>\n",
       "      <th>2</th>\n",
       "      <td>3</td>\n",
       "      <td>North</td>\n",
       "      <td>Bihar</td>\n",
       "      <td>104099452</td>\n",
       "      <td>92341436</td>\n",
       "      <td>11758016</td>\n",
       "      <td>94,163 km2</td>\n",
       "      <td>918</td>\n",
       "    </tr>\n",
       "    <tr>\n",
       "      <th>3</th>\n",
       "      <td>4</td>\n",
       "      <td>East</td>\n",
       "      <td>West Bengal</td>\n",
       "      <td>91276115</td>\n",
       "      <td>62183113</td>\n",
       "      <td>29093002</td>\n",
       "      <td>88,752 km2</td>\n",
       "      <td>953</td>\n",
       "    </tr>\n",
       "    <tr>\n",
       "      <th>4</th>\n",
       "      <td>5</td>\n",
       "      <td>Cntral</td>\n",
       "      <td>Madhya Pradesh</td>\n",
       "      <td>72626809</td>\n",
       "      <td>52557404</td>\n",
       "      <td>20069405</td>\n",
       "      <td>308,245 km2</td>\n",
       "      <td>931</td>\n",
       "    </tr>\n",
       "  </tbody>\n",
       "</table>\n",
       "</div>"
      ],
      "text/plain": [
       "   Sno  Region State / Union Territory  Population  Rural population  \\\n",
       "0    1   North           Uttar Pradesh   199812341         155317278   \n",
       "1    2    West             Maharashtra   112374333          61556074   \n",
       "2    3   North                   Bihar   104099452          92341436   \n",
       "3    4    East             West Bengal    91276115          62183113   \n",
       "4    5  Cntral          Madhya Pradesh    72626809          52557404   \n",
       "\n",
       "   Urban population          Area  Gender Ratio  \n",
       "0          44495063  240,928 km2            912  \n",
       "1          50818259  307,713 km2            929  \n",
       "2          11758016   94,163 km2            918  \n",
       "3          29093002   88,752 km2            953  \n",
       "4          20069405   308,245 km2           931  "
      ]
     },
     "execution_count": 21,
     "metadata": {},
     "output_type": "execute_result"
    }
   ],
   "source": [
    "pop.head()"
   ]
  },
  {
   "cell_type": "code",
   "execution_count": 22,
   "metadata": {
    "collapsed": true
   },
   "outputs": [
    {
     "name": "stdout",
     "output_type": "stream",
     "text": [
      "<class 'pandas.core.frame.DataFrame'>\n",
      "RangeIndex: 36 entries, 0 to 35\n",
      "Data columns (total 8 columns):\n",
      " #   Column                   Non-Null Count  Dtype \n",
      "---  ------                   --------------  ----- \n",
      " 0   Sno                      36 non-null     int64 \n",
      " 1   Region                   36 non-null     object\n",
      " 2   State / Union Territory  36 non-null     object\n",
      " 3   Population               36 non-null     int64 \n",
      " 4   Rural population         36 non-null     int64 \n",
      " 5   Urban population         36 non-null     int64 \n",
      " 6   Area                     36 non-null     object\n",
      " 7   Gender Ratio             36 non-null     int64 \n",
      "dtypes: int64(5), object(3)\n",
      "memory usage: 2.4+ KB\n"
     ]
    }
   ],
   "source": [
    "pop.info()"
   ]
  },
  {
   "cell_type": "code",
   "execution_count": 29,
   "metadata": {},
   "outputs": [],
   "source": [
    "pop['Area'] = pop['Area'].str[0:-4].str.replace(',','').astype('int')"
   ]
  },
  {
   "cell_type": "code",
   "execution_count": 30,
   "metadata": {},
   "outputs": [
    {
     "name": "stdout",
     "output_type": "stream",
     "text": [
      "<class 'pandas.core.frame.DataFrame'>\n",
      "RangeIndex: 36 entries, 0 to 35\n",
      "Data columns (total 8 columns):\n",
      " #   Column                   Non-Null Count  Dtype \n",
      "---  ------                   --------------  ----- \n",
      " 0   Sno                      36 non-null     int64 \n",
      " 1   Region                   36 non-null     object\n",
      " 2   State / Union Territory  36 non-null     object\n",
      " 3   Population               36 non-null     int64 \n",
      " 4   Rural population         36 non-null     int64 \n",
      " 5   Urban population         36 non-null     int64 \n",
      " 6   Area                     36 non-null     int32 \n",
      " 7   Gender Ratio             36 non-null     int64 \n",
      "dtypes: int32(1), int64(5), object(2)\n",
      "memory usage: 2.2+ KB\n"
     ]
    }
   ],
   "source": [
    "pop.info()"
   ]
  },
  {
   "cell_type": "code",
   "execution_count": 32,
   "metadata": {},
   "outputs": [],
   "source": [
    "pop['Population_Density'] = pop['Population']/pop['Area']"
   ]
  },
  {
   "cell_type": "code",
   "execution_count": 33,
   "metadata": {},
   "outputs": [
    {
     "data": {
      "text/html": [
       "<div>\n",
       "<style scoped>\n",
       "    .dataframe tbody tr th:only-of-type {\n",
       "        vertical-align: middle;\n",
       "    }\n",
       "\n",
       "    .dataframe tbody tr th {\n",
       "        vertical-align: top;\n",
       "    }\n",
       "\n",
       "    .dataframe thead th {\n",
       "        text-align: right;\n",
       "    }\n",
       "</style>\n",
       "<table border=\"1\" class=\"dataframe\">\n",
       "  <thead>\n",
       "    <tr style=\"text-align: right;\">\n",
       "      <th></th>\n",
       "      <th>Sno</th>\n",
       "      <th>Region</th>\n",
       "      <th>State / Union Territory</th>\n",
       "      <th>Population</th>\n",
       "      <th>Rural population</th>\n",
       "      <th>Urban population</th>\n",
       "      <th>Area</th>\n",
       "      <th>Gender Ratio</th>\n",
       "      <th>Population_Density</th>\n",
       "    </tr>\n",
       "  </thead>\n",
       "  <tbody>\n",
       "    <tr>\n",
       "      <th>0</th>\n",
       "      <td>1</td>\n",
       "      <td>North</td>\n",
       "      <td>Uttar Pradesh</td>\n",
       "      <td>199812341</td>\n",
       "      <td>155317278</td>\n",
       "      <td>44495063</td>\n",
       "      <td>240928</td>\n",
       "      <td>912</td>\n",
       "      <td>829.344622</td>\n",
       "    </tr>\n",
       "    <tr>\n",
       "      <th>1</th>\n",
       "      <td>2</td>\n",
       "      <td>West</td>\n",
       "      <td>Maharashtra</td>\n",
       "      <td>112374333</td>\n",
       "      <td>61556074</td>\n",
       "      <td>50818259</td>\n",
       "      <td>307713</td>\n",
       "      <td>929</td>\n",
       "      <td>365.192023</td>\n",
       "    </tr>\n",
       "    <tr>\n",
       "      <th>2</th>\n",
       "      <td>3</td>\n",
       "      <td>North</td>\n",
       "      <td>Bihar</td>\n",
       "      <td>104099452</td>\n",
       "      <td>92341436</td>\n",
       "      <td>11758016</td>\n",
       "      <td>94163</td>\n",
       "      <td>918</td>\n",
       "      <td>1105.523953</td>\n",
       "    </tr>\n",
       "    <tr>\n",
       "      <th>3</th>\n",
       "      <td>4</td>\n",
       "      <td>East</td>\n",
       "      <td>West Bengal</td>\n",
       "      <td>91276115</td>\n",
       "      <td>62183113</td>\n",
       "      <td>29093002</td>\n",
       "      <td>88752</td>\n",
       "      <td>953</td>\n",
       "      <td>1028.440091</td>\n",
       "    </tr>\n",
       "    <tr>\n",
       "      <th>4</th>\n",
       "      <td>5</td>\n",
       "      <td>Cntral</td>\n",
       "      <td>Madhya Pradesh</td>\n",
       "      <td>72626809</td>\n",
       "      <td>52557404</td>\n",
       "      <td>20069405</td>\n",
       "      <td>308245</td>\n",
       "      <td>931</td>\n",
       "      <td>235.613908</td>\n",
       "    </tr>\n",
       "  </tbody>\n",
       "</table>\n",
       "</div>"
      ],
      "text/plain": [
       "   Sno  Region State / Union Territory  Population  Rural population  \\\n",
       "0    1   North           Uttar Pradesh   199812341         155317278   \n",
       "1    2    West             Maharashtra   112374333          61556074   \n",
       "2    3   North                   Bihar   104099452          92341436   \n",
       "3    4    East             West Bengal    91276115          62183113   \n",
       "4    5  Cntral          Madhya Pradesh    72626809          52557404   \n",
       "\n",
       "   Urban population    Area  Gender Ratio  Population_Density  \n",
       "0          44495063  240928           912          829.344622  \n",
       "1          50818259  307713           929          365.192023  \n",
       "2          11758016   94163           918         1105.523953  \n",
       "3          29093002   88752           953         1028.440091  \n",
       "4          20069405  308245           931          235.613908  "
      ]
     },
     "execution_count": 33,
     "metadata": {},
     "output_type": "execute_result"
    }
   ],
   "source": [
    "pop.head()"
   ]
  },
  {
   "cell_type": "code",
   "execution_count": null,
   "metadata": {},
   "outputs": [],
   "source": []
  },
  {
   "cell_type": "code",
   "execution_count": null,
   "metadata": {},
   "outputs": [],
   "source": []
  },
  {
   "cell_type": "markdown",
   "metadata": {},
   "source": [
    "##### WhichStateshave the highest percentage of rural population?"
   ]
  },
  {
   "cell_type": "code",
   "execution_count": 34,
   "metadata": {},
   "outputs": [],
   "source": [
    "pop['R_percent'] = (pop['Rural population']/pop['Population'])*100"
   ]
  },
  {
   "cell_type": "code",
   "execution_count": 35,
   "metadata": {},
   "outputs": [
    {
     "data": {
      "text/html": [
       "<div>\n",
       "<style scoped>\n",
       "    .dataframe tbody tr th:only-of-type {\n",
       "        vertical-align: middle;\n",
       "    }\n",
       "\n",
       "    .dataframe tbody tr th {\n",
       "        vertical-align: top;\n",
       "    }\n",
       "\n",
       "    .dataframe thead th {\n",
       "        text-align: right;\n",
       "    }\n",
       "</style>\n",
       "<table border=\"1\" class=\"dataframe\">\n",
       "  <thead>\n",
       "    <tr style=\"text-align: right;\">\n",
       "      <th></th>\n",
       "      <th>Sno</th>\n",
       "      <th>Region</th>\n",
       "      <th>State / Union Territory</th>\n",
       "      <th>Population</th>\n",
       "      <th>Rural population</th>\n",
       "      <th>Urban population</th>\n",
       "      <th>Area</th>\n",
       "      <th>Gender Ratio</th>\n",
       "      <th>Population_Density</th>\n",
       "      <th>R_percent</th>\n",
       "    </tr>\n",
       "  </thead>\n",
       "  <tbody>\n",
       "    <tr>\n",
       "      <th>0</th>\n",
       "      <td>1</td>\n",
       "      <td>North</td>\n",
       "      <td>Uttar Pradesh</td>\n",
       "      <td>199812341</td>\n",
       "      <td>155317278</td>\n",
       "      <td>44495063</td>\n",
       "      <td>240928</td>\n",
       "      <td>912</td>\n",
       "      <td>829.344622</td>\n",
       "      <td>77.731574</td>\n",
       "    </tr>\n",
       "    <tr>\n",
       "      <th>1</th>\n",
       "      <td>2</td>\n",
       "      <td>West</td>\n",
       "      <td>Maharashtra</td>\n",
       "      <td>112374333</td>\n",
       "      <td>61556074</td>\n",
       "      <td>50818259</td>\n",
       "      <td>307713</td>\n",
       "      <td>929</td>\n",
       "      <td>365.192023</td>\n",
       "      <td>54.777699</td>\n",
       "    </tr>\n",
       "    <tr>\n",
       "      <th>2</th>\n",
       "      <td>3</td>\n",
       "      <td>North</td>\n",
       "      <td>Bihar</td>\n",
       "      <td>104099452</td>\n",
       "      <td>92341436</td>\n",
       "      <td>11758016</td>\n",
       "      <td>94163</td>\n",
       "      <td>918</td>\n",
       "      <td>1105.523953</td>\n",
       "      <td>88.705016</td>\n",
       "    </tr>\n",
       "    <tr>\n",
       "      <th>3</th>\n",
       "      <td>4</td>\n",
       "      <td>East</td>\n",
       "      <td>West Bengal</td>\n",
       "      <td>91276115</td>\n",
       "      <td>62183113</td>\n",
       "      <td>29093002</td>\n",
       "      <td>88752</td>\n",
       "      <td>953</td>\n",
       "      <td>1028.440091</td>\n",
       "      <td>68.126380</td>\n",
       "    </tr>\n",
       "    <tr>\n",
       "      <th>4</th>\n",
       "      <td>5</td>\n",
       "      <td>Cntral</td>\n",
       "      <td>Madhya Pradesh</td>\n",
       "      <td>72626809</td>\n",
       "      <td>52557404</td>\n",
       "      <td>20069405</td>\n",
       "      <td>308245</td>\n",
       "      <td>931</td>\n",
       "      <td>235.613908</td>\n",
       "      <td>72.366396</td>\n",
       "    </tr>\n",
       "  </tbody>\n",
       "</table>\n",
       "</div>"
      ],
      "text/plain": [
       "   Sno  Region State / Union Territory  Population  Rural population  \\\n",
       "0    1   North           Uttar Pradesh   199812341         155317278   \n",
       "1    2    West             Maharashtra   112374333          61556074   \n",
       "2    3   North                   Bihar   104099452          92341436   \n",
       "3    4    East             West Bengal    91276115          62183113   \n",
       "4    5  Cntral          Madhya Pradesh    72626809          52557404   \n",
       "\n",
       "   Urban population    Area  Gender Ratio  Population_Density  R_percent  \n",
       "0          44495063  240928           912          829.344622  77.731574  \n",
       "1          50818259  307713           929          365.192023  54.777699  \n",
       "2          11758016   94163           918         1105.523953  88.705016  \n",
       "3          29093002   88752           953         1028.440091  68.126380  \n",
       "4          20069405  308245           931          235.613908  72.366396  "
      ]
     },
     "execution_count": 35,
     "metadata": {},
     "output_type": "execute_result"
    }
   ],
   "source": [
    "pop.head()"
   ]
  },
  {
   "cell_type": "code",
   "execution_count": 36,
   "metadata": {},
   "outputs": [
    {
     "data": {
      "text/html": [
       "<div>\n",
       "<style scoped>\n",
       "    .dataframe tbody tr th:only-of-type {\n",
       "        vertical-align: middle;\n",
       "    }\n",
       "\n",
       "    .dataframe tbody tr th {\n",
       "        vertical-align: top;\n",
       "    }\n",
       "\n",
       "    .dataframe thead th {\n",
       "        text-align: right;\n",
       "    }\n",
       "</style>\n",
       "<table border=\"1\" class=\"dataframe\">\n",
       "  <thead>\n",
       "    <tr style=\"text-align: right;\">\n",
       "      <th></th>\n",
       "      <th>Sno</th>\n",
       "      <th>Region</th>\n",
       "      <th>State / Union Territory</th>\n",
       "      <th>Population</th>\n",
       "      <th>Rural population</th>\n",
       "      <th>Urban population</th>\n",
       "      <th>Area</th>\n",
       "      <th>Gender Ratio</th>\n",
       "      <th>Population_Density</th>\n",
       "      <th>R_percent</th>\n",
       "    </tr>\n",
       "  </thead>\n",
       "  <tbody>\n",
       "    <tr>\n",
       "      <th>19</th>\n",
       "      <td>20</td>\n",
       "      <td>North</td>\n",
       "      <td>Himachal Pradesh</td>\n",
       "      <td>6864602</td>\n",
       "      <td>6176050</td>\n",
       "      <td>688552</td>\n",
       "      <td>55673</td>\n",
       "      <td>972</td>\n",
       "      <td>123.302175</td>\n",
       "      <td>89.969528</td>\n",
       "    </tr>\n",
       "  </tbody>\n",
       "</table>\n",
       "</div>"
      ],
      "text/plain": [
       "    Sno Region State / Union Territory  Population  Rural population  \\\n",
       "19   20  North        Himachal Pradesh     6864602           6176050   \n",
       "\n",
       "    Urban population   Area  Gender Ratio  Population_Density  R_percent  \n",
       "19            688552  55673           972          123.302175  89.969528  "
      ]
     },
     "execution_count": 36,
     "metadata": {},
     "output_type": "execute_result"
    }
   ],
   "source": [
    "pop.sort_values('R_percent',ascending=False).head(1)"
   ]
  },
  {
   "cell_type": "code",
   "execution_count": null,
   "metadata": {},
   "outputs": [],
   "source": []
  },
  {
   "cell_type": "code",
   "execution_count": null,
   "metadata": {},
   "outputs": [],
   "source": []
  },
  {
   "cell_type": "markdown",
   "metadata": {},
   "source": [
    "#### &&&&&"
   ]
  }
 ],
 "metadata": {
  "kernelspec": {
   "display_name": "Python 3",
   "language": "python",
   "name": "python3"
  },
  "language_info": {
   "codemirror_mode": {
    "name": "ipython",
    "version": 3
   },
   "file_extension": ".py",
   "mimetype": "text/x-python",
   "name": "python",
   "nbconvert_exporter": "python",
   "pygments_lexer": "ipython3",
   "version": "3.8.5"
  }
 },
 "nbformat": 4,
 "nbformat_minor": 2
}
